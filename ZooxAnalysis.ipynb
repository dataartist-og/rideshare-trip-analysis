{
  "nbformat": 4,
  "nbformat_minor": 0,
  "metadata": {
    "colab": {
      "name": "ZooxAnalysis.ipynb",
      "provenance": [],
      "machine_shape": "hm",
      "mount_file_id": "1SBsQ4tQZlIjbI32DMXC4Uinner3-NS7q",
      "authorship_tag": "ABX9TyPkuzZtzR+VFjD1Rs3Hj4oR",
      "include_colab_link": true
    },
    "kernelspec": {
      "name": "python3",
      "display_name": "Python 3"
    },
    "language_info": {
      "name": "python"
    }
  },
  "cells": [
    {
      "cell_type": "markdown",
      "metadata": {
        "id": "view-in-github",
        "colab_type": "text"
      },
      "source": [
        "<a href=\"https://colab.research.google.com/github/dataartist-og/rideshare-trip-analysis/blob/main/ZooxAnalysis.ipynb\" target=\"_parent\"><img src=\"https://colab.research.google.com/assets/colab-badge.svg\" alt=\"Open In Colab\"/></a>"
      ]
    },
    {
      "cell_type": "code",
      "execution_count": null,
      "metadata": {
        "id": "fCdjeBZkg5Xh"
      },
      "outputs": [],
      "source": [
        "import pandas as pd"
      ]
    },
    {
      "cell_type": "code",
      "source": [
        "pd.read_csv('drive/MyDrive/data_exercise/company_b_1.csv').head()"
      ],
      "metadata": {
        "colab": {
          "base_uri": "https://localhost:8080/",
          "height": 357
        },
        "id": "0GGs5djLg82E",
        "outputId": "c475a86f-efc7-43ca-d0a6-a26a2a2089e2"
      },
      "execution_count": null,
      "outputs": [
        {
          "output_type": "execute_result",
          "data": {
            "text/plain": [
              "    trip_id                     start_time                 completed_time  \\\n",
              "0  26559444  2018-12-02T12:41:26.000+00:00  2018-12-02T12:45:40.000+00:00   \n",
              "1  26559031  2018-12-02T12:39:24.000+00:00  2018-12-02T12:41:49.000+00:00   \n",
              "2  26552748  2018-12-02T12:08:07.000+00:00  2018-12-02T12:18:29.000+00:00   \n",
              "3  26559594  2018-12-02T12:42:16.000+00:00  2018-12-02T12:56:58.000+00:00   \n",
              "4  26557132  2018-12-02T12:30:01.000+00:00  2018-12-02T12:48:30.000+00:00   \n",
              "\n",
              "   distance_meters  start_latitude  start_longitude  end_latitude  \\\n",
              "0              382           38.23           -85.75         38.23   \n",
              "1              109           38.26           -85.75         38.26   \n",
              "2             2547           38.21           -85.75         38.23   \n",
              "3             1575           38.26           -85.76         38.26   \n",
              "4               37           38.22           -85.75         38.23   \n",
              "\n",
              "   end_longitude  \n",
              "0         -85.76  \n",
              "1         -85.76  \n",
              "2         -85.75  \n",
              "3         -85.76  \n",
              "4         -85.76  "
            ],
            "text/html": [
              "\n",
              "  <div id=\"df-5b86aff4-e160-4feb-9d04-99fd304bc179\">\n",
              "    <div class=\"colab-df-container\">\n",
              "      <div>\n",
              "<style scoped>\n",
              "    .dataframe tbody tr th:only-of-type {\n",
              "        vertical-align: middle;\n",
              "    }\n",
              "\n",
              "    .dataframe tbody tr th {\n",
              "        vertical-align: top;\n",
              "    }\n",
              "\n",
              "    .dataframe thead th {\n",
              "        text-align: right;\n",
              "    }\n",
              "</style>\n",
              "<table border=\"1\" class=\"dataframe\">\n",
              "  <thead>\n",
              "    <tr style=\"text-align: right;\">\n",
              "      <th></th>\n",
              "      <th>trip_id</th>\n",
              "      <th>start_time</th>\n",
              "      <th>completed_time</th>\n",
              "      <th>distance_meters</th>\n",
              "      <th>start_latitude</th>\n",
              "      <th>start_longitude</th>\n",
              "      <th>end_latitude</th>\n",
              "      <th>end_longitude</th>\n",
              "    </tr>\n",
              "  </thead>\n",
              "  <tbody>\n",
              "    <tr>\n",
              "      <th>0</th>\n",
              "      <td>26559444</td>\n",
              "      <td>2018-12-02T12:41:26.000+00:00</td>\n",
              "      <td>2018-12-02T12:45:40.000+00:00</td>\n",
              "      <td>382</td>\n",
              "      <td>38.23</td>\n",
              "      <td>-85.75</td>\n",
              "      <td>38.23</td>\n",
              "      <td>-85.76</td>\n",
              "    </tr>\n",
              "    <tr>\n",
              "      <th>1</th>\n",
              "      <td>26559031</td>\n",
              "      <td>2018-12-02T12:39:24.000+00:00</td>\n",
              "      <td>2018-12-02T12:41:49.000+00:00</td>\n",
              "      <td>109</td>\n",
              "      <td>38.26</td>\n",
              "      <td>-85.75</td>\n",
              "      <td>38.26</td>\n",
              "      <td>-85.76</td>\n",
              "    </tr>\n",
              "    <tr>\n",
              "      <th>2</th>\n",
              "      <td>26552748</td>\n",
              "      <td>2018-12-02T12:08:07.000+00:00</td>\n",
              "      <td>2018-12-02T12:18:29.000+00:00</td>\n",
              "      <td>2547</td>\n",
              "      <td>38.21</td>\n",
              "      <td>-85.75</td>\n",
              "      <td>38.23</td>\n",
              "      <td>-85.75</td>\n",
              "    </tr>\n",
              "    <tr>\n",
              "      <th>3</th>\n",
              "      <td>26559594</td>\n",
              "      <td>2018-12-02T12:42:16.000+00:00</td>\n",
              "      <td>2018-12-02T12:56:58.000+00:00</td>\n",
              "      <td>1575</td>\n",
              "      <td>38.26</td>\n",
              "      <td>-85.76</td>\n",
              "      <td>38.26</td>\n",
              "      <td>-85.76</td>\n",
              "    </tr>\n",
              "    <tr>\n",
              "      <th>4</th>\n",
              "      <td>26557132</td>\n",
              "      <td>2018-12-02T12:30:01.000+00:00</td>\n",
              "      <td>2018-12-02T12:48:30.000+00:00</td>\n",
              "      <td>37</td>\n",
              "      <td>38.22</td>\n",
              "      <td>-85.75</td>\n",
              "      <td>38.23</td>\n",
              "      <td>-85.76</td>\n",
              "    </tr>\n",
              "  </tbody>\n",
              "</table>\n",
              "</div>\n",
              "      <button class=\"colab-df-convert\" onclick=\"convertToInteractive('df-5b86aff4-e160-4feb-9d04-99fd304bc179')\"\n",
              "              title=\"Convert this dataframe to an interactive table.\"\n",
              "              style=\"display:none;\">\n",
              "        \n",
              "  <svg xmlns=\"http://www.w3.org/2000/svg\" height=\"24px\"viewBox=\"0 0 24 24\"\n",
              "       width=\"24px\">\n",
              "    <path d=\"M0 0h24v24H0V0z\" fill=\"none\"/>\n",
              "    <path d=\"M18.56 5.44l.94 2.06.94-2.06 2.06-.94-2.06-.94-.94-2.06-.94 2.06-2.06.94zm-11 1L8.5 8.5l.94-2.06 2.06-.94-2.06-.94L8.5 2.5l-.94 2.06-2.06.94zm10 10l.94 2.06.94-2.06 2.06-.94-2.06-.94-.94-2.06-.94 2.06-2.06.94z\"/><path d=\"M17.41 7.96l-1.37-1.37c-.4-.4-.92-.59-1.43-.59-.52 0-1.04.2-1.43.59L10.3 9.45l-7.72 7.72c-.78.78-.78 2.05 0 2.83L4 21.41c.39.39.9.59 1.41.59.51 0 1.02-.2 1.41-.59l7.78-7.78 2.81-2.81c.8-.78.8-2.07 0-2.86zM5.41 20L4 18.59l7.72-7.72 1.47 1.35L5.41 20z\"/>\n",
              "  </svg>\n",
              "      </button>\n",
              "      \n",
              "  <style>\n",
              "    .colab-df-container {\n",
              "      display:flex;\n",
              "      flex-wrap:wrap;\n",
              "      gap: 12px;\n",
              "    }\n",
              "\n",
              "    .colab-df-convert {\n",
              "      background-color: #E8F0FE;\n",
              "      border: none;\n",
              "      border-radius: 50%;\n",
              "      cursor: pointer;\n",
              "      display: none;\n",
              "      fill: #1967D2;\n",
              "      height: 32px;\n",
              "      padding: 0 0 0 0;\n",
              "      width: 32px;\n",
              "    }\n",
              "\n",
              "    .colab-df-convert:hover {\n",
              "      background-color: #E2EBFA;\n",
              "      box-shadow: 0px 1px 2px rgba(60, 64, 67, 0.3), 0px 1px 3px 1px rgba(60, 64, 67, 0.15);\n",
              "      fill: #174EA6;\n",
              "    }\n",
              "\n",
              "    [theme=dark] .colab-df-convert {\n",
              "      background-color: #3B4455;\n",
              "      fill: #D2E3FC;\n",
              "    }\n",
              "\n",
              "    [theme=dark] .colab-df-convert:hover {\n",
              "      background-color: #434B5C;\n",
              "      box-shadow: 0px 1px 3px 1px rgba(0, 0, 0, 0.15);\n",
              "      filter: drop-shadow(0px 1px 2px rgba(0, 0, 0, 0.3));\n",
              "      fill: #FFFFFF;\n",
              "    }\n",
              "  </style>\n",
              "\n",
              "      <script>\n",
              "        const buttonEl =\n",
              "          document.querySelector('#df-5b86aff4-e160-4feb-9d04-99fd304bc179 button.colab-df-convert');\n",
              "        buttonEl.style.display =\n",
              "          google.colab.kernel.accessAllowed ? 'block' : 'none';\n",
              "\n",
              "        async function convertToInteractive(key) {\n",
              "          const element = document.querySelector('#df-5b86aff4-e160-4feb-9d04-99fd304bc179');\n",
              "          const dataTable =\n",
              "            await google.colab.kernel.invokeFunction('convertToInteractive',\n",
              "                                                     [key], {});\n",
              "          if (!dataTable) return;\n",
              "\n",
              "          const docLinkHtml = 'Like what you see? Visit the ' +\n",
              "            '<a target=\"_blank\" href=https://colab.research.google.com/notebooks/data_table.ipynb>data table notebook</a>'\n",
              "            + ' to learn more about interactive tables.';\n",
              "          element.innerHTML = '';\n",
              "          dataTable['output_type'] = 'display_data';\n",
              "          await google.colab.output.renderOutput(dataTable, element);\n",
              "          const docLink = document.createElement('div');\n",
              "          docLink.innerHTML = docLinkHtml;\n",
              "          element.appendChild(docLink);\n",
              "        }\n",
              "      </script>\n",
              "    </div>\n",
              "  </div>\n",
              "  "
            ]
          },
          "metadata": {},
          "execution_count": 51
        }
      ]
    },
    {
      "cell_type": "code",
      "source": [
        "pd.read_csv('drive/MyDrive/data_exercise/company_b_2.csv').head()"
      ],
      "metadata": {
        "colab": {
          "base_uri": "https://localhost:8080/",
          "height": 357
        },
        "id": "XCzoOwz3hQR7",
        "outputId": "a9a92d8b-95d7-4680-e91f-f00d994c7134"
      },
      "execution_count": null,
      "outputs": [
        {
          "output_type": "execute_result",
          "data": {
            "text/plain": [
              "    trip_id                     start_time                 completed_time  \\\n",
              "0  32246858  2019-01-03T00:26:04.000+00:00  2019-01-03T00:31:41.000+00:00   \n",
              "1  32246751  2019-01-03T00:24:00.000+00:00  2019-01-03T00:31:18.000+00:00   \n",
              "2  33040870  2019-01-07T13:33:19.000+00:00  2019-01-07T14:19:24.000+00:00   \n",
              "3  33419326  2019-01-09T17:32:27.000+00:00  2019-01-09T17:38:20.000+00:00   \n",
              "4  34672477  2019-01-16T15:31:11.000+00:00  2019-01-16T15:32:22.000+00:00   \n",
              "\n",
              "   distance_meters  start_latitude  start_longitude  end_latitude  \\\n",
              "0               49           38.24           -85.76         38.24   \n",
              "1              154           38.24           -85.76         38.24   \n",
              "2             1695           38.21           -85.77         38.21   \n",
              "3              690           38.25           -85.76         38.25   \n",
              "4                0           38.26           -85.76         38.26   \n",
              "\n",
              "   end_longitude  \n",
              "0         -85.76  \n",
              "1         -85.76  \n",
              "2         -85.77  \n",
              "3         -85.75  \n",
              "4         -85.76  "
            ],
            "text/html": [
              "\n",
              "  <div id=\"df-cdb14655-cb01-45c7-b1ef-78eed45b9272\">\n",
              "    <div class=\"colab-df-container\">\n",
              "      <div>\n",
              "<style scoped>\n",
              "    .dataframe tbody tr th:only-of-type {\n",
              "        vertical-align: middle;\n",
              "    }\n",
              "\n",
              "    .dataframe tbody tr th {\n",
              "        vertical-align: top;\n",
              "    }\n",
              "\n",
              "    .dataframe thead th {\n",
              "        text-align: right;\n",
              "    }\n",
              "</style>\n",
              "<table border=\"1\" class=\"dataframe\">\n",
              "  <thead>\n",
              "    <tr style=\"text-align: right;\">\n",
              "      <th></th>\n",
              "      <th>trip_id</th>\n",
              "      <th>start_time</th>\n",
              "      <th>completed_time</th>\n",
              "      <th>distance_meters</th>\n",
              "      <th>start_latitude</th>\n",
              "      <th>start_longitude</th>\n",
              "      <th>end_latitude</th>\n",
              "      <th>end_longitude</th>\n",
              "    </tr>\n",
              "  </thead>\n",
              "  <tbody>\n",
              "    <tr>\n",
              "      <th>0</th>\n",
              "      <td>32246858</td>\n",
              "      <td>2019-01-03T00:26:04.000+00:00</td>\n",
              "      <td>2019-01-03T00:31:41.000+00:00</td>\n",
              "      <td>49</td>\n",
              "      <td>38.24</td>\n",
              "      <td>-85.76</td>\n",
              "      <td>38.24</td>\n",
              "      <td>-85.76</td>\n",
              "    </tr>\n",
              "    <tr>\n",
              "      <th>1</th>\n",
              "      <td>32246751</td>\n",
              "      <td>2019-01-03T00:24:00.000+00:00</td>\n",
              "      <td>2019-01-03T00:31:18.000+00:00</td>\n",
              "      <td>154</td>\n",
              "      <td>38.24</td>\n",
              "      <td>-85.76</td>\n",
              "      <td>38.24</td>\n",
              "      <td>-85.76</td>\n",
              "    </tr>\n",
              "    <tr>\n",
              "      <th>2</th>\n",
              "      <td>33040870</td>\n",
              "      <td>2019-01-07T13:33:19.000+00:00</td>\n",
              "      <td>2019-01-07T14:19:24.000+00:00</td>\n",
              "      <td>1695</td>\n",
              "      <td>38.21</td>\n",
              "      <td>-85.77</td>\n",
              "      <td>38.21</td>\n",
              "      <td>-85.77</td>\n",
              "    </tr>\n",
              "    <tr>\n",
              "      <th>3</th>\n",
              "      <td>33419326</td>\n",
              "      <td>2019-01-09T17:32:27.000+00:00</td>\n",
              "      <td>2019-01-09T17:38:20.000+00:00</td>\n",
              "      <td>690</td>\n",
              "      <td>38.25</td>\n",
              "      <td>-85.76</td>\n",
              "      <td>38.25</td>\n",
              "      <td>-85.75</td>\n",
              "    </tr>\n",
              "    <tr>\n",
              "      <th>4</th>\n",
              "      <td>34672477</td>\n",
              "      <td>2019-01-16T15:31:11.000+00:00</td>\n",
              "      <td>2019-01-16T15:32:22.000+00:00</td>\n",
              "      <td>0</td>\n",
              "      <td>38.26</td>\n",
              "      <td>-85.76</td>\n",
              "      <td>38.26</td>\n",
              "      <td>-85.76</td>\n",
              "    </tr>\n",
              "  </tbody>\n",
              "</table>\n",
              "</div>\n",
              "      <button class=\"colab-df-convert\" onclick=\"convertToInteractive('df-cdb14655-cb01-45c7-b1ef-78eed45b9272')\"\n",
              "              title=\"Convert this dataframe to an interactive table.\"\n",
              "              style=\"display:none;\">\n",
              "        \n",
              "  <svg xmlns=\"http://www.w3.org/2000/svg\" height=\"24px\"viewBox=\"0 0 24 24\"\n",
              "       width=\"24px\">\n",
              "    <path d=\"M0 0h24v24H0V0z\" fill=\"none\"/>\n",
              "    <path d=\"M18.56 5.44l.94 2.06.94-2.06 2.06-.94-2.06-.94-.94-2.06-.94 2.06-2.06.94zm-11 1L8.5 8.5l.94-2.06 2.06-.94-2.06-.94L8.5 2.5l-.94 2.06-2.06.94zm10 10l.94 2.06.94-2.06 2.06-.94-2.06-.94-.94-2.06-.94 2.06-2.06.94z\"/><path d=\"M17.41 7.96l-1.37-1.37c-.4-.4-.92-.59-1.43-.59-.52 0-1.04.2-1.43.59L10.3 9.45l-7.72 7.72c-.78.78-.78 2.05 0 2.83L4 21.41c.39.39.9.59 1.41.59.51 0 1.02-.2 1.41-.59l7.78-7.78 2.81-2.81c.8-.78.8-2.07 0-2.86zM5.41 20L4 18.59l7.72-7.72 1.47 1.35L5.41 20z\"/>\n",
              "  </svg>\n",
              "      </button>\n",
              "      \n",
              "  <style>\n",
              "    .colab-df-container {\n",
              "      display:flex;\n",
              "      flex-wrap:wrap;\n",
              "      gap: 12px;\n",
              "    }\n",
              "\n",
              "    .colab-df-convert {\n",
              "      background-color: #E8F0FE;\n",
              "      border: none;\n",
              "      border-radius: 50%;\n",
              "      cursor: pointer;\n",
              "      display: none;\n",
              "      fill: #1967D2;\n",
              "      height: 32px;\n",
              "      padding: 0 0 0 0;\n",
              "      width: 32px;\n",
              "    }\n",
              "\n",
              "    .colab-df-convert:hover {\n",
              "      background-color: #E2EBFA;\n",
              "      box-shadow: 0px 1px 2px rgba(60, 64, 67, 0.3), 0px 1px 3px 1px rgba(60, 64, 67, 0.15);\n",
              "      fill: #174EA6;\n",
              "    }\n",
              "\n",
              "    [theme=dark] .colab-df-convert {\n",
              "      background-color: #3B4455;\n",
              "      fill: #D2E3FC;\n",
              "    }\n",
              "\n",
              "    [theme=dark] .colab-df-convert:hover {\n",
              "      background-color: #434B5C;\n",
              "      box-shadow: 0px 1px 3px 1px rgba(0, 0, 0, 0.15);\n",
              "      filter: drop-shadow(0px 1px 2px rgba(0, 0, 0, 0.3));\n",
              "      fill: #FFFFFF;\n",
              "    }\n",
              "  </style>\n",
              "\n",
              "      <script>\n",
              "        const buttonEl =\n",
              "          document.querySelector('#df-cdb14655-cb01-45c7-b1ef-78eed45b9272 button.colab-df-convert');\n",
              "        buttonEl.style.display =\n",
              "          google.colab.kernel.accessAllowed ? 'block' : 'none';\n",
              "\n",
              "        async function convertToInteractive(key) {\n",
              "          const element = document.querySelector('#df-cdb14655-cb01-45c7-b1ef-78eed45b9272');\n",
              "          const dataTable =\n",
              "            await google.colab.kernel.invokeFunction('convertToInteractive',\n",
              "                                                     [key], {});\n",
              "          if (!dataTable) return;\n",
              "\n",
              "          const docLinkHtml = 'Like what you see? Visit the ' +\n",
              "            '<a target=\"_blank\" href=https://colab.research.google.com/notebooks/data_table.ipynb>data table notebook</a>'\n",
              "            + ' to learn more about interactive tables.';\n",
              "          element.innerHTML = '';\n",
              "          dataTable['output_type'] = 'display_data';\n",
              "          await google.colab.output.renderOutput(dataTable, element);\n",
              "          const docLink = document.createElement('div');\n",
              "          docLink.innerHTML = docLinkHtml;\n",
              "          element.appendChild(docLink);\n",
              "        }\n",
              "      </script>\n",
              "    </div>\n",
              "  </div>\n",
              "  "
            ]
          },
          "metadata": {},
          "execution_count": 52
        }
      ]
    },
    {
      "cell_type": "code",
      "source": [
        "df = pd.DataFrame()\n",
        "df_list = []\n",
        "for i in range(1,6):\n",
        "  df_list.append(pd.read_csv(\"drive/MyDrive/data_exercise/company_a_{}.csv\".format(i), parse_dates=True, infer_datetime_format=True))"
      ],
      "metadata": {
        "id": "b2GKcWPRh91L"
      },
      "execution_count": null,
      "outputs": []
    },
    {
      "cell_type": "code",
      "source": [
        "df = pd.concat(df_list).reset_index()\n",
        "del df['index']"
      ],
      "metadata": {
        "id": "OLhJ6vsBiSxA"
      },
      "execution_count": null,
      "outputs": []
    },
    {
      "cell_type": "code",
      "source": [
        "df"
      ],
      "metadata": {
        "colab": {
          "base_uri": "https://localhost:8080/",
          "height": 1000
        },
        "id": "4YR-yg4XiVcJ",
        "outputId": "355cbbb1-c394-4bf1-f3d0-8ba9cfafb0d4"
      },
      "execution_count": null,
      "outputs": [
        {
          "output_type": "execute_result",
          "data": {
            "text/plain": [
              "                                     TripID  \\\n",
              "0      0e56a534-66f4-448b-8eaa-beab76509955   \n",
              "1      d9280fb0-8135-4750-9c71-c610789ba005   \n",
              "2      48fa27f3-3b19-4f0e-8665-ee0b188445fd   \n",
              "3      6321b580-9055-4418-8c17-1d39a4d49027   \n",
              "4      d05bf0bb-f6ee-489e-a32c-a93e15b626f8   \n",
              "...                                     ...   \n",
              "57360  36ce0228-e16b-4c1f-abfd-b647703021f2   \n",
              "57361  c52348ba-a5af-4d86-a9ac-bb8dc8e68c86   \n",
              "57362  6b91ef5d-d609-4eda-870d-80b6f8edf73b   \n",
              "57363  ede0673d-9e03-4205-bcc3-3be9a8d39f6a   \n",
              "57364  64aa3c48-0751-4dae-bbdd-96b48c922905   \n",
              "\n",
              "                                  ScooterID       StartTime         EndTime  \\\n",
              "0      5bc901d7-b714-4c57-a614-3d7193da825a    8/9/18 10:24    8/9/18 10:26   \n",
              "1      3d1905ec-85be-4773-9fe2-34421073363f    8/9/18 10:26    8/9/18 10:56   \n",
              "2      5bc901d7-b714-4c57-a614-3d7193da825a    8/9/18 10:26    8/9/18 10:35   \n",
              "3      4d49088f-4038-4dfb-9d55-e58a157d56d5    8/9/18 10:37    8/9/18 10:56   \n",
              "4      e398ff1b-5d6b-4f15-b493-a988c7ab07b6    8/9/18 10:41    8/9/18 10:47   \n",
              "...                                     ...             ...             ...   \n",
              "57360  7ebaece5-550b-4d5f-97e6-c7be3a0970ce  12/31/18 20:43  12/31/18 21:43   \n",
              "57361  8ff0800a-a99e-4db3-99ff-e4fb01506b09  12/31/18 20:48  12/31/18 20:59   \n",
              "57362  50eb545b-9357-4830-809e-a63a058b19e9  12/31/18 20:50  12/31/18 20:57   \n",
              "57363  dfa1518e-77be-4847-97cc-3dbc5348ee26  12/31/18 20:51  12/31/18 21:00   \n",
              "57364  02d24631-ad55-43f4-a494-b3624c2800e4  12/31/18 20:52  12/31/18 20:56   \n",
              "\n",
              "       StartLatitude  StartLongitude  EndLatitude  EndLongitude  TripDistance  \n",
              "0              38.25          -85.76        38.25        -85.76          0.04  \n",
              "1              38.25          -85.74        38.26        -85.77          1.98  \n",
              "2              38.25          -85.76        38.25        -85.76          0.06  \n",
              "3              38.25          -85.74        38.26        -85.77          1.85  \n",
              "4              38.26          -85.75        38.26        -85.76          0.35  \n",
              "...              ...             ...          ...           ...           ...  \n",
              "57360          38.23          -85.71        38.24        -85.72          0.19  \n",
              "57361          38.23          -85.71        38.23        -85.71          0.63  \n",
              "57362          38.25          -85.74        38.25        -85.76          0.83  \n",
              "57363          38.22          -85.75        38.22        -85.75          0.39  \n",
              "57364          38.24          -85.71        38.24        -85.71          0.06  \n",
              "\n",
              "[57365 rows x 9 columns]"
            ],
            "text/html": [
              "\n",
              "  <div id=\"df-aeb0638c-f023-49a1-9132-01b8c41378da\">\n",
              "    <div class=\"colab-df-container\">\n",
              "      <div>\n",
              "<style scoped>\n",
              "    .dataframe tbody tr th:only-of-type {\n",
              "        vertical-align: middle;\n",
              "    }\n",
              "\n",
              "    .dataframe tbody tr th {\n",
              "        vertical-align: top;\n",
              "    }\n",
              "\n",
              "    .dataframe thead th {\n",
              "        text-align: right;\n",
              "    }\n",
              "</style>\n",
              "<table border=\"1\" class=\"dataframe\">\n",
              "  <thead>\n",
              "    <tr style=\"text-align: right;\">\n",
              "      <th></th>\n",
              "      <th>TripID</th>\n",
              "      <th>ScooterID</th>\n",
              "      <th>StartTime</th>\n",
              "      <th>EndTime</th>\n",
              "      <th>StartLatitude</th>\n",
              "      <th>StartLongitude</th>\n",
              "      <th>EndLatitude</th>\n",
              "      <th>EndLongitude</th>\n",
              "      <th>TripDistance</th>\n",
              "    </tr>\n",
              "  </thead>\n",
              "  <tbody>\n",
              "    <tr>\n",
              "      <th>0</th>\n",
              "      <td>0e56a534-66f4-448b-8eaa-beab76509955</td>\n",
              "      <td>5bc901d7-b714-4c57-a614-3d7193da825a</td>\n",
              "      <td>8/9/18 10:24</td>\n",
              "      <td>8/9/18 10:26</td>\n",
              "      <td>38.25</td>\n",
              "      <td>-85.76</td>\n",
              "      <td>38.25</td>\n",
              "      <td>-85.76</td>\n",
              "      <td>0.04</td>\n",
              "    </tr>\n",
              "    <tr>\n",
              "      <th>1</th>\n",
              "      <td>d9280fb0-8135-4750-9c71-c610789ba005</td>\n",
              "      <td>3d1905ec-85be-4773-9fe2-34421073363f</td>\n",
              "      <td>8/9/18 10:26</td>\n",
              "      <td>8/9/18 10:56</td>\n",
              "      <td>38.25</td>\n",
              "      <td>-85.74</td>\n",
              "      <td>38.26</td>\n",
              "      <td>-85.77</td>\n",
              "      <td>1.98</td>\n",
              "    </tr>\n",
              "    <tr>\n",
              "      <th>2</th>\n",
              "      <td>48fa27f3-3b19-4f0e-8665-ee0b188445fd</td>\n",
              "      <td>5bc901d7-b714-4c57-a614-3d7193da825a</td>\n",
              "      <td>8/9/18 10:26</td>\n",
              "      <td>8/9/18 10:35</td>\n",
              "      <td>38.25</td>\n",
              "      <td>-85.76</td>\n",
              "      <td>38.25</td>\n",
              "      <td>-85.76</td>\n",
              "      <td>0.06</td>\n",
              "    </tr>\n",
              "    <tr>\n",
              "      <th>3</th>\n",
              "      <td>6321b580-9055-4418-8c17-1d39a4d49027</td>\n",
              "      <td>4d49088f-4038-4dfb-9d55-e58a157d56d5</td>\n",
              "      <td>8/9/18 10:37</td>\n",
              "      <td>8/9/18 10:56</td>\n",
              "      <td>38.25</td>\n",
              "      <td>-85.74</td>\n",
              "      <td>38.26</td>\n",
              "      <td>-85.77</td>\n",
              "      <td>1.85</td>\n",
              "    </tr>\n",
              "    <tr>\n",
              "      <th>4</th>\n",
              "      <td>d05bf0bb-f6ee-489e-a32c-a93e15b626f8</td>\n",
              "      <td>e398ff1b-5d6b-4f15-b493-a988c7ab07b6</td>\n",
              "      <td>8/9/18 10:41</td>\n",
              "      <td>8/9/18 10:47</td>\n",
              "      <td>38.26</td>\n",
              "      <td>-85.75</td>\n",
              "      <td>38.26</td>\n",
              "      <td>-85.76</td>\n",
              "      <td>0.35</td>\n",
              "    </tr>\n",
              "    <tr>\n",
              "      <th>...</th>\n",
              "      <td>...</td>\n",
              "      <td>...</td>\n",
              "      <td>...</td>\n",
              "      <td>...</td>\n",
              "      <td>...</td>\n",
              "      <td>...</td>\n",
              "      <td>...</td>\n",
              "      <td>...</td>\n",
              "      <td>...</td>\n",
              "    </tr>\n",
              "    <tr>\n",
              "      <th>57360</th>\n",
              "      <td>36ce0228-e16b-4c1f-abfd-b647703021f2</td>\n",
              "      <td>7ebaece5-550b-4d5f-97e6-c7be3a0970ce</td>\n",
              "      <td>12/31/18 20:43</td>\n",
              "      <td>12/31/18 21:43</td>\n",
              "      <td>38.23</td>\n",
              "      <td>-85.71</td>\n",
              "      <td>38.24</td>\n",
              "      <td>-85.72</td>\n",
              "      <td>0.19</td>\n",
              "    </tr>\n",
              "    <tr>\n",
              "      <th>57361</th>\n",
              "      <td>c52348ba-a5af-4d86-a9ac-bb8dc8e68c86</td>\n",
              "      <td>8ff0800a-a99e-4db3-99ff-e4fb01506b09</td>\n",
              "      <td>12/31/18 20:48</td>\n",
              "      <td>12/31/18 20:59</td>\n",
              "      <td>38.23</td>\n",
              "      <td>-85.71</td>\n",
              "      <td>38.23</td>\n",
              "      <td>-85.71</td>\n",
              "      <td>0.63</td>\n",
              "    </tr>\n",
              "    <tr>\n",
              "      <th>57362</th>\n",
              "      <td>6b91ef5d-d609-4eda-870d-80b6f8edf73b</td>\n",
              "      <td>50eb545b-9357-4830-809e-a63a058b19e9</td>\n",
              "      <td>12/31/18 20:50</td>\n",
              "      <td>12/31/18 20:57</td>\n",
              "      <td>38.25</td>\n",
              "      <td>-85.74</td>\n",
              "      <td>38.25</td>\n",
              "      <td>-85.76</td>\n",
              "      <td>0.83</td>\n",
              "    </tr>\n",
              "    <tr>\n",
              "      <th>57363</th>\n",
              "      <td>ede0673d-9e03-4205-bcc3-3be9a8d39f6a</td>\n",
              "      <td>dfa1518e-77be-4847-97cc-3dbc5348ee26</td>\n",
              "      <td>12/31/18 20:51</td>\n",
              "      <td>12/31/18 21:00</td>\n",
              "      <td>38.22</td>\n",
              "      <td>-85.75</td>\n",
              "      <td>38.22</td>\n",
              "      <td>-85.75</td>\n",
              "      <td>0.39</td>\n",
              "    </tr>\n",
              "    <tr>\n",
              "      <th>57364</th>\n",
              "      <td>64aa3c48-0751-4dae-bbdd-96b48c922905</td>\n",
              "      <td>02d24631-ad55-43f4-a494-b3624c2800e4</td>\n",
              "      <td>12/31/18 20:52</td>\n",
              "      <td>12/31/18 20:56</td>\n",
              "      <td>38.24</td>\n",
              "      <td>-85.71</td>\n",
              "      <td>38.24</td>\n",
              "      <td>-85.71</td>\n",
              "      <td>0.06</td>\n",
              "    </tr>\n",
              "  </tbody>\n",
              "</table>\n",
              "<p>57365 rows × 9 columns</p>\n",
              "</div>\n",
              "      <button class=\"colab-df-convert\" onclick=\"convertToInteractive('df-aeb0638c-f023-49a1-9132-01b8c41378da')\"\n",
              "              title=\"Convert this dataframe to an interactive table.\"\n",
              "              style=\"display:none;\">\n",
              "        \n",
              "  <svg xmlns=\"http://www.w3.org/2000/svg\" height=\"24px\"viewBox=\"0 0 24 24\"\n",
              "       width=\"24px\">\n",
              "    <path d=\"M0 0h24v24H0V0z\" fill=\"none\"/>\n",
              "    <path d=\"M18.56 5.44l.94 2.06.94-2.06 2.06-.94-2.06-.94-.94-2.06-.94 2.06-2.06.94zm-11 1L8.5 8.5l.94-2.06 2.06-.94-2.06-.94L8.5 2.5l-.94 2.06-2.06.94zm10 10l.94 2.06.94-2.06 2.06-.94-2.06-.94-.94-2.06-.94 2.06-2.06.94z\"/><path d=\"M17.41 7.96l-1.37-1.37c-.4-.4-.92-.59-1.43-.59-.52 0-1.04.2-1.43.59L10.3 9.45l-7.72 7.72c-.78.78-.78 2.05 0 2.83L4 21.41c.39.39.9.59 1.41.59.51 0 1.02-.2 1.41-.59l7.78-7.78 2.81-2.81c.8-.78.8-2.07 0-2.86zM5.41 20L4 18.59l7.72-7.72 1.47 1.35L5.41 20z\"/>\n",
              "  </svg>\n",
              "      </button>\n",
              "      \n",
              "  <style>\n",
              "    .colab-df-container {\n",
              "      display:flex;\n",
              "      flex-wrap:wrap;\n",
              "      gap: 12px;\n",
              "    }\n",
              "\n",
              "    .colab-df-convert {\n",
              "      background-color: #E8F0FE;\n",
              "      border: none;\n",
              "      border-radius: 50%;\n",
              "      cursor: pointer;\n",
              "      display: none;\n",
              "      fill: #1967D2;\n",
              "      height: 32px;\n",
              "      padding: 0 0 0 0;\n",
              "      width: 32px;\n",
              "    }\n",
              "\n",
              "    .colab-df-convert:hover {\n",
              "      background-color: #E2EBFA;\n",
              "      box-shadow: 0px 1px 2px rgba(60, 64, 67, 0.3), 0px 1px 3px 1px rgba(60, 64, 67, 0.15);\n",
              "      fill: #174EA6;\n",
              "    }\n",
              "\n",
              "    [theme=dark] .colab-df-convert {\n",
              "      background-color: #3B4455;\n",
              "      fill: #D2E3FC;\n",
              "    }\n",
              "\n",
              "    [theme=dark] .colab-df-convert:hover {\n",
              "      background-color: #434B5C;\n",
              "      box-shadow: 0px 1px 3px 1px rgba(0, 0, 0, 0.15);\n",
              "      filter: drop-shadow(0px 1px 2px rgba(0, 0, 0, 0.3));\n",
              "      fill: #FFFFFF;\n",
              "    }\n",
              "  </style>\n",
              "\n",
              "      <script>\n",
              "        const buttonEl =\n",
              "          document.querySelector('#df-aeb0638c-f023-49a1-9132-01b8c41378da button.colab-df-convert');\n",
              "        buttonEl.style.display =\n",
              "          google.colab.kernel.accessAllowed ? 'block' : 'none';\n",
              "\n",
              "        async function convertToInteractive(key) {\n",
              "          const element = document.querySelector('#df-aeb0638c-f023-49a1-9132-01b8c41378da');\n",
              "          const dataTable =\n",
              "            await google.colab.kernel.invokeFunction('convertToInteractive',\n",
              "                                                     [key], {});\n",
              "          if (!dataTable) return;\n",
              "\n",
              "          const docLinkHtml = 'Like what you see? Visit the ' +\n",
              "            '<a target=\"_blank\" href=https://colab.research.google.com/notebooks/data_table.ipynb>data table notebook</a>'\n",
              "            + ' to learn more about interactive tables.';\n",
              "          element.innerHTML = '';\n",
              "          dataTable['output_type'] = 'display_data';\n",
              "          await google.colab.output.renderOutput(dataTable, element);\n",
              "          const docLink = document.createElement('div');\n",
              "          docLink.innerHTML = docLinkHtml;\n",
              "          element.appendChild(docLink);\n",
              "        }\n",
              "      </script>\n",
              "    </div>\n",
              "  </div>\n",
              "  "
            ]
          },
          "metadata": {},
          "execution_count": 55
        }
      ]
    },
    {
      "cell_type": "code",
      "source": [
        "df = df.dropna().reset_index()\n",
        "del df['index']\n",
        "for col in ['StartLongitude','StartLatitude','EndLatitude','EndLongitude']:\n",
        "  df = df[df[col]!=0]\n",
        "df.reset_index(inplace=True)\n",
        "del df['index']\n",
        "df.head()"
      ],
      "metadata": {
        "id": "dQIvWuc0Ky4B",
        "colab": {
          "base_uri": "https://localhost:8080/",
          "height": 530
        },
        "outputId": "b35d013b-060c-4957-f2b0-ac1aedced1d1"
      },
      "execution_count": null,
      "outputs": [
        {
          "output_type": "execute_result",
          "data": {
            "text/plain": [
              "                                 TripID                             ScooterID  \\\n",
              "0  0e56a534-66f4-448b-8eaa-beab76509955  5bc901d7-b714-4c57-a614-3d7193da825a   \n",
              "1  d9280fb0-8135-4750-9c71-c610789ba005  3d1905ec-85be-4773-9fe2-34421073363f   \n",
              "2  48fa27f3-3b19-4f0e-8665-ee0b188445fd  5bc901d7-b714-4c57-a614-3d7193da825a   \n",
              "3  6321b580-9055-4418-8c17-1d39a4d49027  4d49088f-4038-4dfb-9d55-e58a157d56d5   \n",
              "4  d05bf0bb-f6ee-489e-a32c-a93e15b626f8  e398ff1b-5d6b-4f15-b493-a988c7ab07b6   \n",
              "\n",
              "      StartTime       EndTime  StartLatitude  StartLongitude  EndLatitude  \\\n",
              "0  8/9/18 10:24  8/9/18 10:26          38.25          -85.76        38.25   \n",
              "1  8/9/18 10:26  8/9/18 10:56          38.25          -85.74        38.26   \n",
              "2  8/9/18 10:26  8/9/18 10:35          38.25          -85.76        38.25   \n",
              "3  8/9/18 10:37  8/9/18 10:56          38.25          -85.74        38.26   \n",
              "4  8/9/18 10:41  8/9/18 10:47          38.26          -85.75        38.26   \n",
              "\n",
              "   EndLongitude  TripDistance  \n",
              "0        -85.76          0.04  \n",
              "1        -85.77          1.98  \n",
              "2        -85.76          0.06  \n",
              "3        -85.77          1.85  \n",
              "4        -85.76          0.35  "
            ],
            "text/html": [
              "\n",
              "  <div id=\"df-5634f2d0-5f9b-4aeb-9ce8-a8e18f102d7d\">\n",
              "    <div class=\"colab-df-container\">\n",
              "      <div>\n",
              "<style scoped>\n",
              "    .dataframe tbody tr th:only-of-type {\n",
              "        vertical-align: middle;\n",
              "    }\n",
              "\n",
              "    .dataframe tbody tr th {\n",
              "        vertical-align: top;\n",
              "    }\n",
              "\n",
              "    .dataframe thead th {\n",
              "        text-align: right;\n",
              "    }\n",
              "</style>\n",
              "<table border=\"1\" class=\"dataframe\">\n",
              "  <thead>\n",
              "    <tr style=\"text-align: right;\">\n",
              "      <th></th>\n",
              "      <th>TripID</th>\n",
              "      <th>ScooterID</th>\n",
              "      <th>StartTime</th>\n",
              "      <th>EndTime</th>\n",
              "      <th>StartLatitude</th>\n",
              "      <th>StartLongitude</th>\n",
              "      <th>EndLatitude</th>\n",
              "      <th>EndLongitude</th>\n",
              "      <th>TripDistance</th>\n",
              "    </tr>\n",
              "  </thead>\n",
              "  <tbody>\n",
              "    <tr>\n",
              "      <th>0</th>\n",
              "      <td>0e56a534-66f4-448b-8eaa-beab76509955</td>\n",
              "      <td>5bc901d7-b714-4c57-a614-3d7193da825a</td>\n",
              "      <td>8/9/18 10:24</td>\n",
              "      <td>8/9/18 10:26</td>\n",
              "      <td>38.25</td>\n",
              "      <td>-85.76</td>\n",
              "      <td>38.25</td>\n",
              "      <td>-85.76</td>\n",
              "      <td>0.04</td>\n",
              "    </tr>\n",
              "    <tr>\n",
              "      <th>1</th>\n",
              "      <td>d9280fb0-8135-4750-9c71-c610789ba005</td>\n",
              "      <td>3d1905ec-85be-4773-9fe2-34421073363f</td>\n",
              "      <td>8/9/18 10:26</td>\n",
              "      <td>8/9/18 10:56</td>\n",
              "      <td>38.25</td>\n",
              "      <td>-85.74</td>\n",
              "      <td>38.26</td>\n",
              "      <td>-85.77</td>\n",
              "      <td>1.98</td>\n",
              "    </tr>\n",
              "    <tr>\n",
              "      <th>2</th>\n",
              "      <td>48fa27f3-3b19-4f0e-8665-ee0b188445fd</td>\n",
              "      <td>5bc901d7-b714-4c57-a614-3d7193da825a</td>\n",
              "      <td>8/9/18 10:26</td>\n",
              "      <td>8/9/18 10:35</td>\n",
              "      <td>38.25</td>\n",
              "      <td>-85.76</td>\n",
              "      <td>38.25</td>\n",
              "      <td>-85.76</td>\n",
              "      <td>0.06</td>\n",
              "    </tr>\n",
              "    <tr>\n",
              "      <th>3</th>\n",
              "      <td>6321b580-9055-4418-8c17-1d39a4d49027</td>\n",
              "      <td>4d49088f-4038-4dfb-9d55-e58a157d56d5</td>\n",
              "      <td>8/9/18 10:37</td>\n",
              "      <td>8/9/18 10:56</td>\n",
              "      <td>38.25</td>\n",
              "      <td>-85.74</td>\n",
              "      <td>38.26</td>\n",
              "      <td>-85.77</td>\n",
              "      <td>1.85</td>\n",
              "    </tr>\n",
              "    <tr>\n",
              "      <th>4</th>\n",
              "      <td>d05bf0bb-f6ee-489e-a32c-a93e15b626f8</td>\n",
              "      <td>e398ff1b-5d6b-4f15-b493-a988c7ab07b6</td>\n",
              "      <td>8/9/18 10:41</td>\n",
              "      <td>8/9/18 10:47</td>\n",
              "      <td>38.26</td>\n",
              "      <td>-85.75</td>\n",
              "      <td>38.26</td>\n",
              "      <td>-85.76</td>\n",
              "      <td>0.35</td>\n",
              "    </tr>\n",
              "  </tbody>\n",
              "</table>\n",
              "</div>\n",
              "      <button class=\"colab-df-convert\" onclick=\"convertToInteractive('df-5634f2d0-5f9b-4aeb-9ce8-a8e18f102d7d')\"\n",
              "              title=\"Convert this dataframe to an interactive table.\"\n",
              "              style=\"display:none;\">\n",
              "        \n",
              "  <svg xmlns=\"http://www.w3.org/2000/svg\" height=\"24px\"viewBox=\"0 0 24 24\"\n",
              "       width=\"24px\">\n",
              "    <path d=\"M0 0h24v24H0V0z\" fill=\"none\"/>\n",
              "    <path d=\"M18.56 5.44l.94 2.06.94-2.06 2.06-.94-2.06-.94-.94-2.06-.94 2.06-2.06.94zm-11 1L8.5 8.5l.94-2.06 2.06-.94-2.06-.94L8.5 2.5l-.94 2.06-2.06.94zm10 10l.94 2.06.94-2.06 2.06-.94-2.06-.94-.94-2.06-.94 2.06-2.06.94z\"/><path d=\"M17.41 7.96l-1.37-1.37c-.4-.4-.92-.59-1.43-.59-.52 0-1.04.2-1.43.59L10.3 9.45l-7.72 7.72c-.78.78-.78 2.05 0 2.83L4 21.41c.39.39.9.59 1.41.59.51 0 1.02-.2 1.41-.59l7.78-7.78 2.81-2.81c.8-.78.8-2.07 0-2.86zM5.41 20L4 18.59l7.72-7.72 1.47 1.35L5.41 20z\"/>\n",
              "  </svg>\n",
              "      </button>\n",
              "      \n",
              "  <style>\n",
              "    .colab-df-container {\n",
              "      display:flex;\n",
              "      flex-wrap:wrap;\n",
              "      gap: 12px;\n",
              "    }\n",
              "\n",
              "    .colab-df-convert {\n",
              "      background-color: #E8F0FE;\n",
              "      border: none;\n",
              "      border-radius: 50%;\n",
              "      cursor: pointer;\n",
              "      display: none;\n",
              "      fill: #1967D2;\n",
              "      height: 32px;\n",
              "      padding: 0 0 0 0;\n",
              "      width: 32px;\n",
              "    }\n",
              "\n",
              "    .colab-df-convert:hover {\n",
              "      background-color: #E2EBFA;\n",
              "      box-shadow: 0px 1px 2px rgba(60, 64, 67, 0.3), 0px 1px 3px 1px rgba(60, 64, 67, 0.15);\n",
              "      fill: #174EA6;\n",
              "    }\n",
              "\n",
              "    [theme=dark] .colab-df-convert {\n",
              "      background-color: #3B4455;\n",
              "      fill: #D2E3FC;\n",
              "    }\n",
              "\n",
              "    [theme=dark] .colab-df-convert:hover {\n",
              "      background-color: #434B5C;\n",
              "      box-shadow: 0px 1px 3px 1px rgba(0, 0, 0, 0.15);\n",
              "      filter: drop-shadow(0px 1px 2px rgba(0, 0, 0, 0.3));\n",
              "      fill: #FFFFFF;\n",
              "    }\n",
              "  </style>\n",
              "\n",
              "      <script>\n",
              "        const buttonEl =\n",
              "          document.querySelector('#df-5634f2d0-5f9b-4aeb-9ce8-a8e18f102d7d button.colab-df-convert');\n",
              "        buttonEl.style.display =\n",
              "          google.colab.kernel.accessAllowed ? 'block' : 'none';\n",
              "\n",
              "        async function convertToInteractive(key) {\n",
              "          const element = document.querySelector('#df-5634f2d0-5f9b-4aeb-9ce8-a8e18f102d7d');\n",
              "          const dataTable =\n",
              "            await google.colab.kernel.invokeFunction('convertToInteractive',\n",
              "                                                     [key], {});\n",
              "          if (!dataTable) return;\n",
              "\n",
              "          const docLinkHtml = 'Like what you see? Visit the ' +\n",
              "            '<a target=\"_blank\" href=https://colab.research.google.com/notebooks/data_table.ipynb>data table notebook</a>'\n",
              "            + ' to learn more about interactive tables.';\n",
              "          element.innerHTML = '';\n",
              "          dataTable['output_type'] = 'display_data';\n",
              "          await google.colab.output.renderOutput(dataTable, element);\n",
              "          const docLink = document.createElement('div');\n",
              "          docLink.innerHTML = docLinkHtml;\n",
              "          element.appendChild(docLink);\n",
              "        }\n",
              "      </script>\n",
              "    </div>\n",
              "  </div>\n",
              "  "
            ]
          },
          "metadata": {},
          "execution_count": 56
        }
      ]
    },
    {
      "cell_type": "code",
      "source": [
        "try:\n",
        "  del df['index']\n",
        "  del df['level_0']\n",
        "except:\n",
        "  pass"
      ],
      "metadata": {
        "id": "Uba91nYZNZxO"
      },
      "execution_count": null,
      "outputs": []
    },
    {
      "cell_type": "code",
      "source": [
        "\n",
        "df[\"StartTime\"] = pd.to_datetime(df.StartTime)\n",
        "df[\"EndTime\"] = pd.to_datetime(df.EndTime)"
      ],
      "metadata": {
        "id": "-y3NEGrGiWOf"
      },
      "execution_count": null,
      "outputs": []
    },
    {
      "cell_type": "code",
      "source": [
        "len(df.TripID.unique())"
      ],
      "metadata": {
        "colab": {
          "base_uri": "https://localhost:8080/"
        },
        "id": "BUriiqliici5",
        "outputId": "b1950afc-bd60-4440-cd85-5e746fdc3081"
      },
      "execution_count": null,
      "outputs": [
        {
          "output_type": "execute_result",
          "data": {
            "text/plain": [
              "57363"
            ]
          },
          "metadata": {},
          "execution_count": 59
        }
      ]
    },
    {
      "cell_type": "code",
      "source": [
        "len(df.ScooterID.unique())"
      ],
      "metadata": {
        "colab": {
          "base_uri": "https://localhost:8080/"
        },
        "id": "y9aobx5SkBYU",
        "outputId": "ffd961b6-e7d4-4f3d-c9be-143e262da136"
      },
      "execution_count": null,
      "outputs": [
        {
          "output_type": "execute_result",
          "data": {
            "text/plain": [
              "858"
            ]
          },
          "metadata": {},
          "execution_count": 60
        }
      ]
    },
    {
      "cell_type": "code",
      "source": [
        "# Operations:\n",
        "# Rides per day, hour\n",
        "# Peak time, graph of rides over time\n",
        "# peak areas\n",
        "# Overall range\n",
        "# distance per ride, over time\n",
        "# scooter wear/tear\n",
        "# distances traveled by geography"
      ],
      "metadata": {
        "id": "VV-RbZtmDc3D"
      },
      "execution_count": null,
      "outputs": []
    },
    {
      "cell_type": "code",
      "source": [
        "import matplotlib.pyplot as plt\n",
        "import seaborn as sns"
      ],
      "metadata": {
        "id": "hKS2Epz5EAz4"
      },
      "execution_count": null,
      "outputs": []
    },
    {
      "cell_type": "code",
      "source": [
        "from collections import Counter"
      ],
      "metadata": {
        "id": "Us3syozsFMwF"
      },
      "execution_count": null,
      "outputs": []
    },
    {
      "cell_type": "code",
      "source": [
        "ct_start = Counter(zip(df.StartLatitude,df.StartLongitude))"
      ],
      "metadata": {
        "id": "dFHqlP8aGH08"
      },
      "execution_count": null,
      "outputs": []
    },
    {
      "cell_type": "code",
      "source": [
        ""
      ],
      "metadata": {
        "id": "YzxTRBDBGQbE"
      },
      "execution_count": null,
      "outputs": []
    },
    {
      "cell_type": "code",
      "source": [
        "ct_startlat = Counter(df.StartLatitude)\n",
        "df['StartLatitude'].describe()"
      ],
      "metadata": {
        "colab": {
          "base_uri": "https://localhost:8080/"
        },
        "id": "pOiVcNuAEsKl",
        "outputId": "782acdc6-3b21-4f90-df8a-4126771d3f8b"
      },
      "execution_count": null,
      "outputs": [
        {
          "output_type": "execute_result",
          "data": {
            "text/plain": [
              "count    57363.00000\n",
              "mean        38.24342\n",
              "std          0.01614\n",
              "min         38.10000\n",
              "25%         38.23000\n",
              "50%         38.25000\n",
              "75%         38.26000\n",
              "max         38.34000\n",
              "Name: StartLatitude, dtype: float64"
            ]
          },
          "metadata": {},
          "execution_count": 65
        }
      ]
    },
    {
      "cell_type": "code",
      "source": [
        "ct_startlong = Counter(df.StartLongitude)\n",
        "df['StartLongitude'].describe()"
      ],
      "metadata": {
        "colab": {
          "base_uri": "https://localhost:8080/"
        },
        "id": "W-B0VDzDEzrR",
        "outputId": "8a909d93-f7e0-4453-f2c3-c5e6b71e6533"
      },
      "execution_count": null,
      "outputs": [
        {
          "output_type": "execute_result",
          "data": {
            "text/plain": [
              "count    57363.000000\n",
              "mean       -85.745516\n",
              "std          0.020405\n",
              "min        -85.900000\n",
              "25%        -85.760000\n",
              "50%        -85.750000\n",
              "75%        -85.740000\n",
              "max        -85.490000\n",
              "Name: StartLongitude, dtype: float64"
            ]
          },
          "metadata": {},
          "execution_count": 66
        }
      ]
    },
    {
      "cell_type": "code",
      "source": [
        "df.EndLatitude.describe()"
      ],
      "metadata": {
        "colab": {
          "base_uri": "https://localhost:8080/"
        },
        "id": "PrMRY3oaORye",
        "outputId": "1288e472-ceef-4b48-e367-453b4442752c"
      },
      "execution_count": null,
      "outputs": [
        {
          "output_type": "execute_result",
          "data": {
            "text/plain": [
              "count    57363.000000\n",
              "mean        38.242581\n",
              "std          0.066523\n",
              "min         26.120000\n",
              "25%         38.230000\n",
              "50%         38.250000\n",
              "75%         38.260000\n",
              "max         41.300000\n",
              "Name: EndLatitude, dtype: float64"
            ]
          },
          "metadata": {},
          "execution_count": 67
        }
      ]
    },
    {
      "cell_type": "code",
      "source": [
        "df.EndLongitude.describe()"
      ],
      "metadata": {
        "colab": {
          "base_uri": "https://localhost:8080/"
        },
        "id": "Jio8gyYiI7Uw",
        "outputId": "9610ab36-5ea6-479f-afee-cf9b7bd9c0c3"
      },
      "execution_count": null,
      "outputs": [
        {
          "output_type": "execute_result",
          "data": {
            "text/plain": [
              "count    57363.000000\n",
              "mean       -85.747360\n",
              "std          0.245307\n",
              "min       -122.420000\n",
              "25%        -85.760000\n",
              "50%        -85.750000\n",
              "75%        -85.740000\n",
              "max        -80.140000\n",
              "Name: EndLongitude, dtype: float64"
            ]
          },
          "metadata": {},
          "execution_count": 68
        }
      ]
    },
    {
      "cell_type": "code",
      "source": [
        "ct_end = Counter(zip(df.EndLatitude,df.EndLongitude))"
      ],
      "metadata": {
        "id": "1i4j6q0BIS4o"
      },
      "execution_count": null,
      "outputs": []
    },
    {
      "cell_type": "code",
      "source": [
        "#ct_end.values()"
      ],
      "metadata": {
        "id": "K0fWBe7TIjUH"
      },
      "execution_count": null,
      "outputs": []
    },
    {
      "cell_type": "code",
      "source": [
        "import numpy as np\n",
        "#(np.log(list(ct_end.values())) + 1)**2"
      ],
      "metadata": {
        "id": "9J_yTaBrGkie"
      },
      "execution_count": null,
      "outputs": []
    },
    {
      "cell_type": "code",
      "source": [
        ""
      ],
      "metadata": {
        "id": "8NnaPLz_Kg5j"
      },
      "execution_count": null,
      "outputs": []
    },
    {
      "cell_type": "code",
      "source": [
        "ct_end = Counter(zip(df.EndLatitude,df.EndLongitude))\n",
        "#ct_end"
      ],
      "metadata": {
        "id": "DLyA2T4YJq1R"
      },
      "execution_count": null,
      "outputs": []
    },
    {
      "cell_type": "code",
      "source": [
        "fig = plt.figure(figsize=(12,16))\n",
        "#axs = fig.add_subplot(111)\n",
        "plt.scatter(df['StartLatitude'],df['StartLongitude'], s=[(np.log(ct_start[(i,j)]) + 1)**2 for i,j in zip(df.StartLatitude,df.StartLongitude)],\\\n",
        "            c='red',marker='o')\n",
        "#plt.scatter(df['EndLatitude'],df['EndLongitude'], s=[(np.log(ct_end[(i,j)]) + 1)**2 for i,j in zip(df.EndLatitude,df.EndLongitude)],\\\n",
        "#            c='blue',marker='x')\n",
        "#plt.xlim((38,38.6))\n",
        "#plt.ylim((-86,-85))\n",
        "#plt.show()\n"
      ],
      "metadata": {
        "colab": {
          "base_uri": "https://localhost:8080/",
          "height": 810
        },
        "id": "2re2butbPXkf",
        "outputId": "05e3a5b3-e7e4-423a-8b7e-af9facac2110"
      },
      "execution_count": null,
      "outputs": [
        {
          "output_type": "execute_result",
          "data": {
            "text/plain": [
              "<matplotlib.collections.PathCollection at 0x7fd8e5c05350>"
            ]
          },
          "metadata": {},
          "execution_count": 73
        },
        {
          "output_type": "display_data",
          "data": {
            "text/plain": [
              "<Figure size 864x1152 with 1 Axes>"
            ],
            "image/png": "[encoded data removed]"
          },
          "metadata": {
            "needs_background": "light"
          }
        }
      ]
    },
    {
      "cell_type": "code",
      "source": [
        "fig = plt.figure(figsize=(12,16))\n",
        "plt.hist2d(df['StartLatitude'],df['StartLongitude'],(100,100),cmin=2)\n",
        "plt.colorbar()\n",
        "#plt.legend(labels=['StartLatitude', 'StartLongitude'],loc='upper right',)"
      ],
      "metadata": {
        "colab": {
          "base_uri": "https://localhost:8080/",
          "height": 839
        },
        "id": "0vME4PlOgWHD",
        "outputId": "a613e85e-f62a-440e-bc17-aac9aec1974c"
      },
      "execution_count": null,
      "outputs": [
        {
          "output_type": "execute_result",
          "data": {
            "text/plain": [
              "<matplotlib.colorbar.Colorbar at 0x7fd8e5721810>"
            ]
          },
          "metadata": {},
          "execution_count": 74
        },
        {
          "output_type": "display_data",
          "data": {
            "text/plain": [
              "<Figure size 864x1152 with 2 Axes>"
            ],
            "image/png": "[encoded data removed]"
          },
          "metadata": {
            "needs_background": "light"
          }
        }
      ]
    },
    {
      "cell_type": "code",
      "source": [
        "fig = plt.figure(figsize=(12,16))\n",
        "plt.hist2d(df['EndLatitude'],df['EndLongitude'])#,(100,100),cmin=15)\n",
        "plt.colorbar()\n",
        "#plt.legend(labels=['StartLatitude', 'StartLongitude'],loc='upper right',)"
      ],
      "metadata": {
        "colab": {
          "base_uri": "https://localhost:8080/",
          "height": 844
        },
        "id": "BtmYbkNFhCts",
        "outputId": "ba02c875-e04d-4eba-d4cf-1be1bda7acd0"
      },
      "execution_count": null,
      "outputs": [
        {
          "output_type": "execute_result",
          "data": {
            "text/plain": [
              "<matplotlib.colorbar.Colorbar at 0x7fd8e8b66ad0>"
            ]
          },
          "metadata": {},
          "execution_count": 75
        },
        {
          "output_type": "display_data",
          "data": {
            "text/plain": [
              "<Figure size 864x1152 with 2 Axes>"
            ],
            "image/png": "[encoded data removed]"
          },
          "metadata": {
            "needs_background": "light"
          }
        }
      ]
    },
    {
      "cell_type": "code",
      "source": [
        "fig = plt.figure(figsize=(12,16))\n",
        "#axs = fig.add_subplot(111)\n",
        "#plt.scatter(df['StartLatitude'],df['StartLongitude'], s=[(np.log(ct_start[(i,j)]) + 1)**2 for i,j in zip(df.StartLatitude,df.StartLongitude)],\\\n",
        "#            c='red',marker='o')\n",
        "plt.scatter(df['EndLatitude'],df['EndLongitude'], s=[(np.log(ct_end[(i,j)]) + 1)**2 for i,j in zip(df.EndLatitude,df.EndLongitude)],\\\n",
        "            c='blue',marker='x')\n",
        "plt.xlim((38.05,38.4))\n",
        "plt.ylim((-85.9,-85.4))\n",
        "#plt.show()"
      ],
      "metadata": {
        "colab": {
          "base_uri": "https://localhost:8080/",
          "height": 808
        },
        "id": "vel6Qiv8EGT0",
        "outputId": "db453fea-78b9-487d-f6e1-33902423899e"
      },
      "execution_count": null,
      "outputs": [
        {
          "output_type": "execute_result",
          "data": {
            "text/plain": [
              "(-85.9, -85.4)"
            ]
          },
          "metadata": {},
          "execution_count": 76
        },
        {
          "output_type": "display_data",
          "data": {
            "text/plain": [
              "<Figure size 864x1152 with 1 Axes>"
            ],
            "image/png": "[encoded data removed]"
          },
          "metadata": {
            "needs_background": "light"
          }
        }
      ]
    },
    {
      "cell_type": "code",
      "source": [
        "from sklearn.cluster import DBSCAN"
      ],
      "metadata": {
        "id": "52X55RCCiRsv"
      },
      "execution_count": null,
      "outputs": []
    },
    {
      "cell_type": "code",
      "source": [
        "clf = DBSCAN(eps=0.02, min_samples = 1, n_jobs=-1, metric='manhattan')\n",
        "XY = df[['StartLatitude','StartLongitude']].values\n",
        "labels = clf.fit_predict(XY)"
      ],
      "metadata": {
        "id": "VnH6ZTUjiRnv"
      },
      "execution_count": null,
      "outputs": []
    },
    {
      "cell_type": "code",
      "source": [
        "np.unique(labels)"
      ],
      "metadata": {
        "colab": {
          "base_uri": "https://localhost:8080/"
        },
        "id": "uGe39LrXiRln",
        "outputId": "c8fc18e6-897b-4b0a-a20f-3ba702f5855e"
      },
      "execution_count": null,
      "outputs": [
        {
          "output_type": "execute_result",
          "data": {
            "text/plain": [
              "array([-1,  0])"
            ]
          },
          "metadata": {},
          "execution_count": 107
        }
      ]
    },
    {
      "cell_type": "code",
      "source": [
        "sum(labels==-1)"
      ],
      "metadata": {
        "colab": {
          "base_uri": "https://localhost:8080/"
        },
        "id": "XWLJuBVZiRhl",
        "outputId": "bb6ca3f4-7bed-443e-8056-62820f98ba29"
      },
      "execution_count": null,
      "outputs": [
        {
          "output_type": "execute_result",
          "data": {
            "text/plain": [
              "77"
            ]
          },
          "metadata": {},
          "execution_count": 108
        }
      ]
    },
    {
      "cell_type": "code",
      "source": [
        "unique_labels = set(labels)\n",
        "colors = [plt.cm.Spectral(each) for each in np.linspace(0, 1, len(unique_labels))]\n",
        "#colors"
      ],
      "metadata": {
        "id": "FB1pA23siRdE"
      },
      "execution_count": null,
      "outputs": []
    },
    {
      "cell_type": "code",
      "source": [
        "labels.shape,XY.shape"
      ],
      "metadata": {
        "colab": {
          "base_uri": "https://localhost:8080/"
        },
        "id": "MkfF69qvpOG1",
        "outputId": "f8097cda-119d-48d0-9abd-4312b9afdd8d"
      },
      "execution_count": null,
      "outputs": [
        {
          "output_type": "execute_result",
          "data": {
            "text/plain": [
              "((57363,), (57363, 2))"
            ]
          },
          "metadata": {},
          "execution_count": 110
        }
      ]
    },
    {
      "cell_type": "code",
      "source": [
        ""
      ],
      "metadata": {
        "id": "yWisTIRupQ8E"
      },
      "execution_count": null,
      "outputs": []
    },
    {
      "cell_type": "code",
      "source": [
        "n_clusters_ = len(unique_labels) - (1 if -1 in unique_labels else 0)\n",
        "plt.figure(figsize=(12,12))\n",
        "for k, col in zip(unique_labels, colors):\n",
        "    if k == -1:\n",
        "        # Black used for noise.\n",
        "        col = [0, 0, 0, 1]\n",
        "\n",
        "    class_member_mask = labels == k\n",
        "    xy = XY[class_member_mask]\n",
        "    plt.plot(\n",
        "        xy[:, 0],\n",
        "        xy[:, 1],\n",
        "        \"o\",\n",
        "        markerfacecolor=tuple(col),\n",
        "        #markeredgecolor=\"k\",\n",
        "        markersize=6,\n",
        "    )\n",
        "plt.title(\"Estimated number of clusters: %d\" % n_clusters_)\n"
      ],
      "metadata": {
        "colab": {
          "base_uri": "https://localhost:8080/",
          "height": 636
        },
        "id": "oV8nOX1JiRTk",
        "outputId": "b69153ae-610c-4fc1-adcc-bbc712a7fafe"
      },
      "execution_count": null,
      "outputs": [
        {
          "output_type": "execute_result",
          "data": {
            "text/plain": [
              "Text(0.5, 1.0, 'Estimated number of clusters: 1')"
            ]
          },
          "metadata": {},
          "execution_count": 111
        },
        {
          "output_type": "display_data",
          "data": {
            "text/plain": [
              "<Figure size 864x864 with 1 Axes>"
            ],
            "image/png": "[encoded data removed]"
          },
          "metadata": {
            "needs_background": "light"
          }
        }
      ]
    },
    {
      "cell_type": "code",
      "source": [
        "for label in unique_labels:\n",
        "  xy = XY[labels==label]\n",
        "  print (label, xy.shape[0], round(np.ptp(xy[:,0]),3), round(np.ptp(xy[:,1]),3))"
      ],
      "metadata": {
        "colab": {
          "base_uri": "https://localhost:8080/"
        },
        "id": "2vFNmtgZpkUL",
        "outputId": "67564506-9874-47ff-d71c-d1dd2a0802cf"
      },
      "execution_count": null,
      "outputs": [
        {
          "output_type": "stream",
          "name": "stdout",
          "text": [
            "0 16927 0.02 0.01\n",
            "1 8668 0.02 0.01\n",
            "2 9478 0.02 0.0\n",
            "3 4268 0.02 0.0\n",
            "4 14 0.01 0.0\n",
            "5 3116 0.03 0.01\n",
            "6 144 0.02 0.01\n",
            "7 697 0.03 0.01\n",
            "8 9410 0.03 0.01\n",
            "9 63 0.01 0.0\n",
            "10 1230 0.03 0.0\n",
            "11 28 0.0 0.0\n",
            "12 80 0.02 0.01\n",
            "13 1340 0.02 0.01\n",
            "14 217 0.01 0.01\n",
            "15 994 0.03 0.01\n",
            "16 52 0.02 0.0\n",
            "17 6 0.01 0.01\n",
            "18 9 0.01 0.01\n",
            "19 123 0.0 0.0\n",
            "20 13 0.02 0.01\n",
            "21 5 0.0 0.0\n",
            "22 21 0.02 0.01\n",
            "23 58 0.03 0.0\n",
            "24 7 0.0 0.01\n",
            "25 5 0.0 0.0\n",
            "26 5 0.0 0.0\n",
            "27 80 0.03 0.0\n",
            "28 9 0.01 0.01\n",
            "29 57 0.02 0.01\n",
            "30 10 0.01 0.0\n",
            "31 6 0.01 0.0\n",
            "32 18 0.0 0.0\n",
            "33 25 0.02 0.0\n",
            "34 25 0.01 0.01\n",
            "35 13 0.01 0.01\n",
            "36 9 0.02 0.0\n",
            "37 16 0.01 0.01\n",
            "38 15 0.01 0.0\n",
            "39 9 0.02 0.0\n",
            "40 6 0.01 0.01\n",
            "41 7 0.0 0.0\n",
            "42 7 0.0 0.01\n",
            "-1 73 0.22 0.36\n"
          ]
        }
      ]
    },
    {
      "cell_type": "code",
      "source": [
        "for scooter_id in df['ScooterID'].unique():\n",
        "  scoot_df = df[df['ScooterID']==scooter_id]\n",
        "  plt.figure()\n",
        "  dist_np.diff(scoot_df.StartLatitude.values)+np.diff(scoot_df.StartLongitude.values"
      ],
      "metadata": {
        "colab": {
          "base_uri": "https://localhost:8080/",
          "height": 1000
        },
        "id": "W8L0UfN8pkPl",
        "outputId": "cba4fb1d-485e-479c-ea4f-86540295799b"
      },
      "execution_count": null,
      "outputs": [
        {
          "output_type": "stream",
          "name": "stderr",
          "text": [
            "/usr/local/lib/python3.7/dist-packages/ipykernel_launcher.py:3: RuntimeWarning: More than 20 figures have been opened. Figures created through the pyplot interface (`matplotlib.pyplot.figure`) are retained until explicitly closed and may consume too much memory. (To control this warning, see the rcParam `figure.max_open_warning`).\n",
            "  This is separate from the ipykernel package so we can avoid doing imports until\n"
          ]
        },
        {
          "output_type": "error",
          "ename": "KeyboardInterrupt",
          "evalue": "ignored",
          "traceback": [
            "\u001b[0;31m---------------------------------------------------------------------------\u001b[0m",
            "\u001b[0;31mKeyboardInterrupt\u001b[0m                         Traceback (most recent call last)",
            "\u001b[0;32m<ipython-input-114-c895a7d090bd>\u001b[0m in \u001b[0;36m<module>\u001b[0;34m()\u001b[0m\n\u001b[1;32m      2\u001b[0m   \u001b[0mscoot_df\u001b[0m \u001b[0;34m=\u001b[0m \u001b[0mdf\u001b[0m\u001b[0;34m[\u001b[0m\u001b[0mdf\u001b[0m\u001b[0;34m[\u001b[0m\u001b[0;34m'ScooterID'\u001b[0m\u001b[0;34m]\u001b[0m\u001b[0;34m==\u001b[0m\u001b[0mscooter_id\u001b[0m\u001b[0;34m]\u001b[0m\u001b[0;34m\u001b[0m\u001b[0;34m\u001b[0m\u001b[0m\n\u001b[1;32m      3\u001b[0m   \u001b[0mplt\u001b[0m\u001b[0;34m.\u001b[0m\u001b[0mfigure\u001b[0m\u001b[0;34m(\u001b[0m\u001b[0;34m)\u001b[0m\u001b[0;34m\u001b[0m\u001b[0;34m\u001b[0m\u001b[0m\n\u001b[0;32m----> 4\u001b[0;31m   \u001b[0mplt\u001b[0m\u001b[0;34m.\u001b[0m\u001b[0mhist\u001b[0m\u001b[0;34m(\u001b[0m\u001b[0mnp\u001b[0m\u001b[0;34m.\u001b[0m\u001b[0mdiff\u001b[0m\u001b[0;34m(\u001b[0m\u001b[0mscoot_df\u001b[0m\u001b[0;34m.\u001b[0m\u001b[0mStartLatitude\u001b[0m\u001b[0;34m.\u001b[0m\u001b[0mvalues\u001b[0m\u001b[0;34m)\u001b[0m\u001b[0;34m+\u001b[0m\u001b[0mnp\u001b[0m\u001b[0;34m.\u001b[0m\u001b[0mdiff\u001b[0m\u001b[0;34m(\u001b[0m\u001b[0mscoot_df\u001b[0m\u001b[0;34m.\u001b[0m\u001b[0mStartLongitude\u001b[0m\u001b[0;34m.\u001b[0m\u001b[0mvalues\u001b[0m\u001b[0;34m)\u001b[0m\u001b[0;34m)\u001b[0m\u001b[0;34m\u001b[0m\u001b[0;34m\u001b[0m\u001b[0m\n\u001b[0m",
            "\u001b[0;32m/usr/local/lib/python3.7/dist-packages/matplotlib/pyplot.py\u001b[0m in \u001b[0;36mhist\u001b[0;34m(x, bins, range, density, weights, cumulative, bottom, histtype, align, orientation, rwidth, log, color, label, stacked, data, **kwargs)\u001b[0m\n\u001b[1;32m   2603\u001b[0m         \u001b[0morientation\u001b[0m\u001b[0;34m=\u001b[0m\u001b[0;34m'vertical'\u001b[0m\u001b[0;34m,\u001b[0m \u001b[0mrwidth\u001b[0m\u001b[0;34m=\u001b[0m\u001b[0;32mNone\u001b[0m\u001b[0;34m,\u001b[0m \u001b[0mlog\u001b[0m\u001b[0;34m=\u001b[0m\u001b[0;32mFalse\u001b[0m\u001b[0;34m,\u001b[0m \u001b[0mcolor\u001b[0m\u001b[0;34m=\u001b[0m\u001b[0;32mNone\u001b[0m\u001b[0;34m,\u001b[0m\u001b[0;34m\u001b[0m\u001b[0;34m\u001b[0m\u001b[0m\n\u001b[1;32m   2604\u001b[0m         label=None, stacked=False, *, data=None, **kwargs):\n\u001b[0;32m-> 2605\u001b[0;31m     return gca().hist(\n\u001b[0m\u001b[1;32m   2606\u001b[0m         \u001b[0mx\u001b[0m\u001b[0;34m,\u001b[0m \u001b[0mbins\u001b[0m\u001b[0;34m=\u001b[0m\u001b[0mbins\u001b[0m\u001b[0;34m,\u001b[0m \u001b[0mrange\u001b[0m\u001b[0;34m=\u001b[0m\u001b[0mrange\u001b[0m\u001b[0;34m,\u001b[0m \u001b[0mdensity\u001b[0m\u001b[0;34m=\u001b[0m\u001b[0mdensity\u001b[0m\u001b[0;34m,\u001b[0m \u001b[0mweights\u001b[0m\u001b[0;34m=\u001b[0m\u001b[0mweights\u001b[0m\u001b[0;34m,\u001b[0m\u001b[0;34m\u001b[0m\u001b[0;34m\u001b[0m\u001b[0m\n\u001b[1;32m   2607\u001b[0m         \u001b[0mcumulative\u001b[0m\u001b[0;34m=\u001b[0m\u001b[0mcumulative\u001b[0m\u001b[0;34m,\u001b[0m \u001b[0mbottom\u001b[0m\u001b[0;34m=\u001b[0m\u001b[0mbottom\u001b[0m\u001b[0;34m,\u001b[0m \u001b[0mhisttype\u001b[0m\u001b[0;34m=\u001b[0m\u001b[0mhisttype\u001b[0m\u001b[0;34m,\u001b[0m\u001b[0;34m\u001b[0m\u001b[0;34m\u001b[0m\u001b[0m\n",
            "\u001b[0;32m/usr/local/lib/python3.7/dist-packages/matplotlib/pyplot.py\u001b[0m in \u001b[0;36mgca\u001b[0;34m(**kwargs)\u001b[0m\n\u001b[1;32m    877\u001b[0m     \u001b[0mmatplotlib\u001b[0m\u001b[0;34m.\u001b[0m\u001b[0mfigure\u001b[0m\u001b[0;34m.\u001b[0m\u001b[0mFigure\u001b[0m\u001b[0;34m.\u001b[0m\u001b[0mgca\u001b[0m \u001b[0;34m:\u001b[0m \u001b[0mThe\u001b[0m \u001b[0mfigure\u001b[0m\u001b[0;31m'\u001b[0m\u001b[0ms\u001b[0m \u001b[0mgca\u001b[0m \u001b[0mmethod\u001b[0m\u001b[0;34m.\u001b[0m\u001b[0;34m\u001b[0m\u001b[0;34m\u001b[0m\u001b[0m\n\u001b[1;32m    878\u001b[0m     \"\"\"\n\u001b[0;32m--> 879\u001b[0;31m     \u001b[0;32mreturn\u001b[0m \u001b[0mgcf\u001b[0m\u001b[0;34m(\u001b[0m\u001b[0;34m)\u001b[0m\u001b[0;34m.\u001b[0m\u001b[0mgca\u001b[0m\u001b[0;34m(\u001b[0m\u001b[0;34m**\u001b[0m\u001b[0mkwargs\u001b[0m\u001b[0;34m)\u001b[0m\u001b[0;34m\u001b[0m\u001b[0;34m\u001b[0m\u001b[0m\n\u001b[0m\u001b[1;32m    880\u001b[0m \u001b[0;34m\u001b[0m\u001b[0m\n\u001b[1;32m    881\u001b[0m \u001b[0;34m\u001b[0m\u001b[0m\n",
            "\u001b[0;32m/usr/local/lib/python3.7/dist-packages/matplotlib/figure.py\u001b[0m in \u001b[0;36mgca\u001b[0;34m(self, **kwargs)\u001b[0m\n\u001b[1;32m   1955\u001b[0m \u001b[0;34m\u001b[0m\u001b[0m\n\u001b[1;32m   1956\u001b[0m         \u001b[0;31m# no axes found, so create one which spans the figure\u001b[0m\u001b[0;34m\u001b[0m\u001b[0;34m\u001b[0m\u001b[0;34m\u001b[0m\u001b[0m\n\u001b[0;32m-> 1957\u001b[0;31m         \u001b[0;32mreturn\u001b[0m \u001b[0mself\u001b[0m\u001b[0;34m.\u001b[0m\u001b[0madd_subplot\u001b[0m\u001b[0;34m(\u001b[0m\u001b[0;36m1\u001b[0m\u001b[0;34m,\u001b[0m \u001b[0;36m1\u001b[0m\u001b[0;34m,\u001b[0m \u001b[0;36m1\u001b[0m\u001b[0;34m,\u001b[0m \u001b[0;34m**\u001b[0m\u001b[0mkwargs\u001b[0m\u001b[0;34m)\u001b[0m\u001b[0;34m\u001b[0m\u001b[0;34m\u001b[0m\u001b[0m\n\u001b[0m\u001b[1;32m   1958\u001b[0m \u001b[0;34m\u001b[0m\u001b[0m\n\u001b[1;32m   1959\u001b[0m     \u001b[0;32mdef\u001b[0m \u001b[0msca\u001b[0m\u001b[0;34m(\u001b[0m\u001b[0mself\u001b[0m\u001b[0;34m,\u001b[0m \u001b[0ma\u001b[0m\u001b[0;34m)\u001b[0m\u001b[0;34m:\u001b[0m\u001b[0;34m\u001b[0m\u001b[0;34m\u001b[0m\u001b[0m\n",
            "\u001b[0;32m/usr/local/lib/python3.7/dist-packages/matplotlib/figure.py\u001b[0m in \u001b[0;36madd_subplot\u001b[0;34m(self, *args, **kwargs)\u001b[0m\n\u001b[1;32m   1417\u001b[0m                     \u001b[0mself\u001b[0m\u001b[0;34m.\u001b[0m\u001b[0m_axstack\u001b[0m\u001b[0;34m.\u001b[0m\u001b[0mremove\u001b[0m\u001b[0;34m(\u001b[0m\u001b[0max\u001b[0m\u001b[0;34m)\u001b[0m\u001b[0;34m\u001b[0m\u001b[0;34m\u001b[0m\u001b[0m\n\u001b[1;32m   1418\u001b[0m \u001b[0;34m\u001b[0m\u001b[0m\n\u001b[0;32m-> 1419\u001b[0;31m             \u001b[0ma\u001b[0m \u001b[0;34m=\u001b[0m \u001b[0msubplot_class_factory\u001b[0m\u001b[0;34m(\u001b[0m\u001b[0mprojection_class\u001b[0m\u001b[0;34m)\u001b[0m\u001b[0;34m(\u001b[0m\u001b[0mself\u001b[0m\u001b[0;34m,\u001b[0m \u001b[0;34m*\u001b[0m\u001b[0margs\u001b[0m\u001b[0;34m,\u001b[0m \u001b[0;34m**\u001b[0m\u001b[0mkwargs\u001b[0m\u001b[0;34m)\u001b[0m\u001b[0;34m\u001b[0m\u001b[0;34m\u001b[0m\u001b[0m\n\u001b[0m\u001b[1;32m   1420\u001b[0m \u001b[0;34m\u001b[0m\u001b[0m\n\u001b[1;32m   1421\u001b[0m         \u001b[0;32mreturn\u001b[0m \u001b[0mself\u001b[0m\u001b[0;34m.\u001b[0m\u001b[0m_add_axes_internal\u001b[0m\u001b[0;34m(\u001b[0m\u001b[0mkey\u001b[0m\u001b[0;34m,\u001b[0m \u001b[0ma\u001b[0m\u001b[0;34m)\u001b[0m\u001b[0;34m\u001b[0m\u001b[0;34m\u001b[0m\u001b[0m\n",
            "\u001b[0;32m/usr/local/lib/python3.7/dist-packages/matplotlib/axes/_subplots.py\u001b[0m in \u001b[0;36m__init__\u001b[0;34m(self, fig, *args, **kwargs)\u001b[0m\n\u001b[1;32m     74\u001b[0m \u001b[0;34m\u001b[0m\u001b[0m\n\u001b[1;32m     75\u001b[0m         \u001b[0;31m# _axes_class is set in the subplot_class_factory\u001b[0m\u001b[0;34m\u001b[0m\u001b[0;34m\u001b[0m\u001b[0;34m\u001b[0m\u001b[0m\n\u001b[0;32m---> 76\u001b[0;31m         \u001b[0mself\u001b[0m\u001b[0;34m.\u001b[0m\u001b[0m_axes_class\u001b[0m\u001b[0;34m.\u001b[0m\u001b[0m__init__\u001b[0m\u001b[0;34m(\u001b[0m\u001b[0mself\u001b[0m\u001b[0;34m,\u001b[0m \u001b[0mfig\u001b[0m\u001b[0;34m,\u001b[0m \u001b[0mself\u001b[0m\u001b[0;34m.\u001b[0m\u001b[0mfigbox\u001b[0m\u001b[0;34m,\u001b[0m \u001b[0;34m**\u001b[0m\u001b[0mkwargs\u001b[0m\u001b[0;34m)\u001b[0m\u001b[0;34m\u001b[0m\u001b[0;34m\u001b[0m\u001b[0m\n\u001b[0m\u001b[1;32m     77\u001b[0m         \u001b[0;31m# add a layout box to this, for both the full axis, and the poss\u001b[0m\u001b[0;34m\u001b[0m\u001b[0;34m\u001b[0m\u001b[0;34m\u001b[0m\u001b[0m\n\u001b[1;32m     78\u001b[0m         \u001b[0;31m# of the axis.  We need both because the axes may become smaller\u001b[0m\u001b[0;34m\u001b[0m\u001b[0;34m\u001b[0m\u001b[0;34m\u001b[0m\u001b[0m\n",
            "\u001b[0;32m/usr/local/lib/python3.7/dist-packages/matplotlib/axes/_base.py\u001b[0m in \u001b[0;36m__init__\u001b[0;34m(self, fig, rect, facecolor, frameon, sharex, sharey, label, xscale, yscale, **kwargs)\u001b[0m\n\u001b[1;32m    437\u001b[0m             \u001b[0mself\u001b[0m\u001b[0;34m.\u001b[0m\u001b[0m_shared_y_axes\u001b[0m\u001b[0;34m.\u001b[0m\u001b[0mjoin\u001b[0m\u001b[0;34m(\u001b[0m\u001b[0mself\u001b[0m\u001b[0;34m,\u001b[0m \u001b[0msharey\u001b[0m\u001b[0;34m)\u001b[0m\u001b[0;34m\u001b[0m\u001b[0;34m\u001b[0m\u001b[0m\n\u001b[1;32m    438\u001b[0m         \u001b[0mself\u001b[0m\u001b[0;34m.\u001b[0m\u001b[0mset_label\u001b[0m\u001b[0;34m(\u001b[0m\u001b[0mlabel\u001b[0m\u001b[0;34m)\u001b[0m\u001b[0;34m\u001b[0m\u001b[0;34m\u001b[0m\u001b[0m\n\u001b[0;32m--> 439\u001b[0;31m         \u001b[0mself\u001b[0m\u001b[0;34m.\u001b[0m\u001b[0mset_figure\u001b[0m\u001b[0;34m(\u001b[0m\u001b[0mfig\u001b[0m\u001b[0;34m)\u001b[0m\u001b[0;34m\u001b[0m\u001b[0;34m\u001b[0m\u001b[0m\n\u001b[0m\u001b[1;32m    440\u001b[0m \u001b[0;34m\u001b[0m\u001b[0m\n\u001b[1;32m    441\u001b[0m         \u001b[0mself\u001b[0m\u001b[0;34m.\u001b[0m\u001b[0mset_axes_locator\u001b[0m\u001b[0;34m(\u001b[0m\u001b[0mkwargs\u001b[0m\u001b[0;34m.\u001b[0m\u001b[0mget\u001b[0m\u001b[0;34m(\u001b[0m\u001b[0;34m\"axes_locator\"\u001b[0m\u001b[0;34m,\u001b[0m \u001b[0;32mNone\u001b[0m\u001b[0;34m)\u001b[0m\u001b[0;34m)\u001b[0m\u001b[0;34m\u001b[0m\u001b[0;34m\u001b[0m\u001b[0m\n",
            "\u001b[0;32m/usr/local/lib/python3.7/dist-packages/matplotlib/axes/_base.py\u001b[0m in \u001b[0;36mset_figure\u001b[0;34m(self, fig)\u001b[0m\n\u001b[1;32m    579\u001b[0m             mtransforms.IdentityTransform())\n\u001b[1;32m    580\u001b[0m \u001b[0;34m\u001b[0m\u001b[0m\n\u001b[0;32m--> 581\u001b[0;31m         \u001b[0mself\u001b[0m\u001b[0;34m.\u001b[0m\u001b[0m_set_lim_and_transforms\u001b[0m\u001b[0;34m(\u001b[0m\u001b[0;34m)\u001b[0m\u001b[0;34m\u001b[0m\u001b[0;34m\u001b[0m\u001b[0m\n\u001b[0m\u001b[1;32m    582\u001b[0m \u001b[0;34m\u001b[0m\u001b[0m\n\u001b[1;32m    583\u001b[0m     \u001b[0;32mdef\u001b[0m \u001b[0m_unstale_viewLim\u001b[0m\u001b[0;34m(\u001b[0m\u001b[0mself\u001b[0m\u001b[0;34m)\u001b[0m\u001b[0;34m:\u001b[0m\u001b[0;34m\u001b[0m\u001b[0;34m\u001b[0m\u001b[0m\n",
            "\u001b[0;32m/usr/local/lib/python3.7/dist-packages/matplotlib/axes/_base.py\u001b[0m in \u001b[0;36m_set_lim_and_transforms\u001b[0;34m(self)\u001b[0m\n\u001b[1;32m    623\u001b[0m             example.)\n\u001b[1;32m    624\u001b[0m         \"\"\"\n\u001b[0;32m--> 625\u001b[0;31m         \u001b[0mself\u001b[0m\u001b[0;34m.\u001b[0m\u001b[0mtransAxes\u001b[0m \u001b[0;34m=\u001b[0m \u001b[0mmtransforms\u001b[0m\u001b[0;34m.\u001b[0m\u001b[0mBboxTransformTo\u001b[0m\u001b[0;34m(\u001b[0m\u001b[0mself\u001b[0m\u001b[0;34m.\u001b[0m\u001b[0mbbox\u001b[0m\u001b[0;34m)\u001b[0m\u001b[0;34m\u001b[0m\u001b[0;34m\u001b[0m\u001b[0m\n\u001b[0m\u001b[1;32m    626\u001b[0m \u001b[0;34m\u001b[0m\u001b[0m\n\u001b[1;32m    627\u001b[0m         \u001b[0;31m# Transforms the x and y axis separately by a scale factor.\u001b[0m\u001b[0;34m\u001b[0m\u001b[0;34m\u001b[0m\u001b[0;34m\u001b[0m\u001b[0m\n",
            "\u001b[0;32m/usr/local/lib/python3.7/dist-packages/matplotlib/transforms.py\u001b[0m in \u001b[0;36m__init__\u001b[0;34m(self, boxout, **kwargs)\u001b[0m\n\u001b[1;32m   2552\u001b[0m         \u001b[0mAffine2DBase\u001b[0m\u001b[0;34m.\u001b[0m\u001b[0m__init__\u001b[0m\u001b[0;34m(\u001b[0m\u001b[0mself\u001b[0m\u001b[0;34m,\u001b[0m \u001b[0;34m**\u001b[0m\u001b[0mkwargs\u001b[0m\u001b[0;34m)\u001b[0m\u001b[0;34m\u001b[0m\u001b[0;34m\u001b[0m\u001b[0m\n\u001b[1;32m   2553\u001b[0m         \u001b[0mself\u001b[0m\u001b[0;34m.\u001b[0m\u001b[0m_boxout\u001b[0m \u001b[0;34m=\u001b[0m \u001b[0mboxout\u001b[0m\u001b[0;34m\u001b[0m\u001b[0;34m\u001b[0m\u001b[0m\n\u001b[0;32m-> 2554\u001b[0;31m         \u001b[0mself\u001b[0m\u001b[0;34m.\u001b[0m\u001b[0mset_children\u001b[0m\u001b[0;34m(\u001b[0m\u001b[0mboxout\u001b[0m\u001b[0;34m)\u001b[0m\u001b[0;34m\u001b[0m\u001b[0;34m\u001b[0m\u001b[0m\n\u001b[0m\u001b[1;32m   2555\u001b[0m         \u001b[0mself\u001b[0m\u001b[0;34m.\u001b[0m\u001b[0m_mtx\u001b[0m \u001b[0;34m=\u001b[0m \u001b[0;32mNone\u001b[0m\u001b[0;34m\u001b[0m\u001b[0;34m\u001b[0m\u001b[0m\n\u001b[1;32m   2556\u001b[0m         \u001b[0mself\u001b[0m\u001b[0;34m.\u001b[0m\u001b[0m_inverted\u001b[0m \u001b[0;34m=\u001b[0m \u001b[0;32mNone\u001b[0m\u001b[0;34m\u001b[0m\u001b[0;34m\u001b[0m\u001b[0m\n",
            "\u001b[0;32m/usr/local/lib/python3.7/dist-packages/matplotlib/transforms.py\u001b[0m in \u001b[0;36mset_children\u001b[0;34m(self, *children)\u001b[0m\n\u001b[1;32m    176\u001b[0m             \u001b[0;31m# performance improvement over using WeakValueDictionary.\u001b[0m\u001b[0;34m\u001b[0m\u001b[0;34m\u001b[0m\u001b[0;34m\u001b[0m\u001b[0m\n\u001b[1;32m    177\u001b[0m             ref = weakref.ref(self, lambda ref, sid=id(self),\n\u001b[0;32m--> 178\u001b[0;31m                                         target=child._parents: target.pop(sid))\n\u001b[0m\u001b[1;32m    179\u001b[0m             \u001b[0mchild\u001b[0m\u001b[0;34m.\u001b[0m\u001b[0m_parents\u001b[0m\u001b[0;34m[\u001b[0m\u001b[0mid\u001b[0m\u001b[0;34m(\u001b[0m\u001b[0mself\u001b[0m\u001b[0;34m)\u001b[0m\u001b[0;34m]\u001b[0m \u001b[0;34m=\u001b[0m \u001b[0mref\u001b[0m\u001b[0;34m\u001b[0m\u001b[0;34m\u001b[0m\u001b[0m\n\u001b[1;32m    180\u001b[0m \u001b[0;34m\u001b[0m\u001b[0m\n",
            "\u001b[0;31mKeyboardInterrupt\u001b[0m: "
          ]
        },
        {
          "output_type": "display_data",
          "data": {
            "text/plain": [
              "<Figure size 432x288 with 1 Axes>"
            ],
            "image/png": "[encoded data removed]"
          },
          "metadata": {
            "needs_background": "light"
          }
        },
        {
          "output_type": "display_data",
          "data": {
            "text/plain": [
              "<Figure size 432x288 with 1 Axes>"
            ],
            "image/png": "[encoded data removed]"
          },
          "metadata": {
            "needs_background": "light"
          }
        },
        {
          "output_type": "display_data",
          "data": {
            "text/plain": [
              "<Figure size 432x288 with 1 Axes>"
            ],
            "image/png": "[encoded data removed]"
          },
          "metadata": {
            "needs_background": "light"
          }
        },
        {
          "output_type": "display_data",
          "data": {
            "text/plain": [
              "<Figure size 432x288 with 1 Axes>"
            ],
            "image/png": "[encoded data removed]"
          },
          "metadata": {
            "needs_background": "light"
          }
        },
        {
          "output_type": "display_data",
          "data": {
            "text/plain": [
              "<Figure size 432x288 with 1 Axes>"
            ],
            "image/png": "[encoded data removed]"
          },
          "metadata": {
            "needs_background": "light"
          }
        },
        {
          "output_type": "display_data",
          "data": {
            "text/plain": [
              "<Figure size 432x288 with 1 Axes>"
            ],
            "image/png": "[encoded data removed]"
          },
          "metadata": {
            "needs_background": "light"
          }
        },
        {
          "output_type": "display_data",
          "data": {
            "text/plain": [
              "<Figure size 432x288 with 1 Axes>"
            ],
            "image/png": "[encoded data removed]"
          },
          "metadata": {
            "needs_background": "light"
          }
        },
        {
          "output_type": "display_data",
          "data": {
            "text/plain": [
              "<Figure size 432x288 with 1 Axes>"
            ],
            "image/png": "[encoded data removed]"
          },
          "metadata": {
            "needs_background": "light"
          }
        },
        {
          "output_type": "display_data",
          "data": {
            "text/plain": [
              "<Figure size 432x288 with 1 Axes>"
            ],
            "image/png": "[encoded data removed]"
          },
          "metadata": {
            "needs_background": "light"
          }
        },
        {
          "output_type": "display_data",
          "data": {
            "text/plain": [
              "<Figure size 432x288 with 1 Axes>"
            ],
            "image/png": "[encoded data removed]"
          },
          "metadata": {
            "needs_background": "light"
          }
        },
        {
          "output_type": "display_data",
          "data": {
            "text/plain": [
              "<Figure size 432x288 with 1 Axes>"
            ],
            "image/png": "[encoded data removed]"
          },
          "metadata": {
            "needs_background": "light"
          }
        },
        {
          "output_type": "display_data",
          "data": {
            "text/plain": [
              "<Figure size 432x288 with 1 Axes>"
            ],
            "image/png": "[encoded data removed]"
          },
          "metadata": {
            "needs_background": "light"
          }
        },
        {
          "output_type": "display_data",
          "data": {
            "text/plain": [
              "<Figure size 432x288 with 1 Axes>"
            ],
            "image/png": "[encoded data removed]"
          },
          "metadata": {
            "needs_background": "light"
          }
        },
        {
          "output_type": "display_data",
          "data": {
            "text/plain": [
              "<Figure size 432x288 with 1 Axes>"
            ],
            "image/png": "[encoded data removed]"
          },
          "metadata": {
            "needs_background": "light"
          }
        },
        {
          "output_type": "display_data",
          "data": {
            "text/plain": [
              "<Figure size 432x288 with 1 Axes>"
            ],
            "image/png": "[encoded data removed]"
          },
          "metadata": {
            "needs_background": "light"
          }
        },
        {
          "output_type": "display_data",
          "data": {
            "text/plain": [
              "<Figure size 432x288 with 1 Axes>"
            ],
            "image/png": "[encoded data removed]"
          },
          "metadata": {
            "needs_background": "light"
          }
        },
        {
          "output_type": "display_data",
          "data": {
            "text/plain": [
              "<Figure size 432x288 with 1 Axes>"
            ],
            "image/png": "[encoded data removed]"
          },
          "metadata": {
            "needs_background": "light"
          }
        },
        {
          "output_type": "display_data",
          "data": {
            "text/plain": [
              "<Figure size 432x288 with 1 Axes>"
            ],
            "image/png": "[encoded data removed]"
          },
          "metadata": {
            "needs_background": "light"
          }
        },
        {
          "output_type": "display_data",
          "data": {
            "text/plain": [
              "<Figure size 432x288 with 1 Axes>"
            ],
            "image/png": "[encoded data removed]"
          },
          "metadata": {
            "needs_background": "light"
          }
        },
        {
          "output_type": "display_data",
          "data": {
            "text/plain": [
              "<Figure size 432x288 with 1 Axes>"
            ],
            "image/png": "[encoded data removed]"
          },
          "metadata": {
            "needs_background": "light"
          }
        },
        {
          "output_type": "display_data",
          "data": {
            "text/plain": [
              "<Figure size 432x288 with 1 Axes>"
            ],
            "image/png": "[encoded data removed]"
          },
          "metadata": {
            "needs_background": "light"
          }
        },
        {
          "output_type": "display_data",
          "data": {
            "text/plain": [
              "<Figure size 432x288 with 1 Axes>"
            ],
            "image/png": "[encoded data removed]"
          },
          "metadata": {
            "needs_background": "light"
          }
        },
        {
          "output_type": "display_data",
          "data": {
            "text/plain": [
              "<Figure size 432x288 with 1 Axes>"
            ],
            "image/png": "[encoded data removed]"
          },
          "metadata": {
            "needs_background": "light"
          }
        },
        {
          "output_type": "display_data",
          "data": {
            "text/plain": [
              "<Figure size 432x288 with 1 Axes>"
            ],
            "image/png": "[encoded data removed]"
          },
          "metadata": {
            "needs_background": "light"
          }
        },
        {
          "output_type": "display_data",
          "data": {
            "text/plain": [
              "<Figure size 432x288 with 1 Axes>"
            ],
            "image/png": "[encoded data removed]"
          },
          "metadata": {
            "needs_background": "light"
          }
        }
      ]
    },
    {
      "cell_type": "code",
      "source": [
        ""
      ],
      "metadata": {
        "id": "RXOTl-PcpkNI"
      },
      "execution_count": null,
      "outputs": []
    },
    {
      "cell_type": "code",
      "source": [
        ""
      ],
      "metadata": {
        "id": "_GSavU5qpkKV"
      },
      "execution_count": null,
      "outputs": []
    },
    {
      "cell_type": "code",
      "source": [
        ""
      ],
      "metadata": {
        "id": "dqvSfM7CpkHn"
      },
      "execution_count": null,
      "outputs": []
    },
    {
      "cell_type": "code",
      "source": [
        ""
      ],
      "metadata": {
        "id": "mhWy3Zwzpj_L"
      },
      "execution_count": null,
      "outputs": []
    },
    {
      "cell_type": "code",
      "source": [
        "import geopy"
      ],
      "metadata": {
        "id": "tiqLK3gDk0GS"
      },
      "execution_count": null,
      "outputs": []
    },
    {
      "cell_type": "code",
      "source": [
        "def reverse_mp():\n",
        "  papss\n",
        "from geopy.geocoders import Nominatim\n",
        "geolocator = Nominatim(user_agent=\"zoox_data_assignment\")"
      ],
      "metadata": {
        "id": "ngU_68zWlzGk"
      },
      "execution_count": null,
      "outputs": []
    },
    {
      "cell_type": "code",
      "source": [
        "location = geolocator.reverse((52.509669, 13.376294))\n",
        "print(location.address)"
      ],
      "metadata": {
        "id": "-KokyQ6SCdfU"
      },
      "execution_count": null,
      "outputs": []
    },
    {
      "cell_type": "code",
      "source": [
        "from tqdm.notebook import tqdm\n",
        "start_locs_latlong = []\n",
        "start_locs_address = []\n",
        "for st_lat,st_long in tqdm(zip(list(df['StartLatitude']),list(df['StartLongitude']))):\n",
        "  start_locs_latlong.append((st_lat,st_long))\n",
        "  #start_locs_address.append(geolocator.reverse(start_locs_latlong[-1]).address.split(\",\"))"
      ],
      "metadata": {
        "id": "03GlYXmil50E"
      },
      "execution_count": null,
      "outputs": []
    },
    {
      "cell_type": "code",
      "source": [
        "df.shape"
      ],
      "metadata": {
        "id": "lkoJRJxSCOuA"
      },
      "execution_count": null,
      "outputs": []
    },
    {
      "cell_type": "code",
      "source": [
        "len(start_locs_latlong)"
      ],
      "metadata": {
        "id": "0i4iiSuuCXBP"
      },
      "execution_count": null,
      "outputs": []
    },
    {
      "cell_type": "code",
      "source": [
        "import multiprocessing as mp\n",
        "with mp.Pool(16) as p:\n",
        "  #p.map(geolocator.reverse, tqdm(start_locs_latlong))\n",
        "  r = list(tqdm(p.imap(geolocator.reverse, start_locs_latlong), total=len(start_locs_latlong)))"
      ],
      "metadata": {
        "id": "AjeebJ0oAtYV"
      },
      "execution_count": null,
      "outputs": []
    },
    {
      "cell_type": "code",
      "source": [
        "start_locs_latlong = []\n",
        "start_locs_address = []\n",
        "for st_lat,st_long in tqdm(zip(list(df['EndLatitude']),list(df['EndLongitude']))):\n",
        "  start_locs_latlong.append((st_lat,st_long))\n",
        "  start_locs_address.append(geolocator.reverse(start_locs_latlong[-1]).address.split(\",\"))"
      ],
      "metadata": {
        "id": "MtK0Bctyojmt"
      },
      "execution_count": null,
      "outputs": []
    },
    {
      "cell_type": "code",
      "source": [
        "start_locs_address"
      ],
      "metadata": {
        "id": "kvvVMReKm6mR"
      },
      "execution_count": null,
      "outputs": []
    },
    {
      "cell_type": "code",
      "source": [
        ""
      ],
      "metadata": {
        "id": "nSpZDarBnRQu"
      },
      "execution_count": null,
      "outputs": []
    },
    {
      "cell_type": "code",
      "source": [
        ""
      ],
      "metadata": {
        "id": "qQCR5Jv_nofA"
      },
      "execution_count": null,
      "outputs": []
    },
    {
      "cell_type": "code",
      "source": [
        "from geopy import distance"
      ],
      "metadata": {
        "id": "V0CLcTf3nu43"
      },
      "execution_count": null,
      "outputs": []
    },
    {
      "cell_type": "code",
      "source": [
        "distance.distance(start)"
      ],
      "metadata": {
        "id": "HnFNzgE_oa4F"
      },
      "execution_count": null,
      "outputs": []
    }
  ]
}